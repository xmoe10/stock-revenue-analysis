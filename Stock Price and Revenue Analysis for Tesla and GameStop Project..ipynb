{
 "cells": [
  {
   "cell_type": "markdown",
   "id": "98132fa9-9edf-46ce-a1f7-e53a660fc0a6",
   "metadata": {},
   "source": [
    "# Stock Price and Revenue Analysis for Tesla and GameStop\n",
    "\n",
    "## Introduction\n",
    "In this project, we analyze the historical stock prices and quarterly revenue data for Tesla and GameStop. By visualizing these data points, we can gain insights into the performance of these companies over time. This analysis utilizes Python libraries such as `yfinance`, `pandas`, `requests`, `BeautifulSoup`, and `plotly`.\n",
    "\n",
    "## Data Retrieval\n",
    "We will retrieve stock price data using the `yfinance` library, which provides an easy way to access financial data. Additionally, we will scrape revenue data from publicly available web pages using `requests` and `BeautifulSoup`."
   ]
  },
  {
   "cell_type": "code",
   "execution_count": 1,
   "id": "fcbcc537-a9c4-4d83-9f54-e5cdb5ca5bdd",
   "metadata": {},
   "outputs": [
    {
     "name": "stdout",
     "output_type": "stream",
     "text": [
      "Requirement already satisfied: kaleido in c:\\users\\moham\\anaconda3\\lib\\site-packages (0.2.1)Note: you may need to restart the kernel to use updated packages.\n",
      "\n"
     ]
    }
   ],
   "source": [
    "# Importing necessary libraries\n",
    "%pip install -U kaleido\n",
    "import yfinance as yf  # For fetching stock price data\n",
    "import pandas as pd  # For data manipulation\n",
    "import requests  # For making HTTP requests\n",
    "from bs4 import BeautifulSoup  # For parsing HTML\n",
    "import plotly.graph_objects as go  # For creating interactive plots\n",
    "from plotly.subplots import make_subplots  # For subplot functionality\n",
    "import plotly.io as pio  # Import Plotly's I/O module for rendering control\n",
    "import warnings\n",
    "\n",
    "# Ignore warnings for cleaner output\n",
    "warnings.filterwarnings(\"ignore\", category=FutureWarning)\n",
    "\n",
    "# Set default renderer to SVG format\n",
    "pio.renderers.default = 'svg'"
   ]
  },
  {
   "cell_type": "markdown",
   "id": "26f110f7-cb10-484d-b764-bfec4bec804a",
   "metadata": {},
   "source": [
    "## Data Visualization\n",
    "The following function creates graphs to visualize the stock prices and revenue data for both companies."
   ]
  },
  {
   "cell_type": "code",
   "execution_count": 3,
   "id": "256473e8-ec54-41f7-8c30-75442f491906",
   "metadata": {},
   "outputs": [],
   "source": [
    "def make_graph(stock_data, revenue_data, stock):\n",
    "    # Create a subplot with two rows for price and revenue\n",
    "    fig = make_subplots(rows=2, cols=1, shared_xaxes=True, \n",
    "                        subplot_titles=(\"Historical Share Price\", \"Historical Revenue\"),\n",
    "                        vertical_spacing=0.3)\n",
    "    \n",
    "    # Filter stock data up to a specific date\n",
    "    stock_data_specific = stock_data[stock_data.Date <= '2021-06-14']\n",
    "    # Filter revenue data up to a specific date\n",
    "    revenue_data_specific = revenue_data[revenue_data.Date <= '2021-04-30']\n",
    "    \n",
    "    # Add stock price trace to the first subplot\n",
    "    fig.add_trace(go.Scatter(x=pd.to_datetime(stock_data_specific.Date, infer_datetime_format=True),\n",
    "                              y=stock_data_specific.Close.astype(\"float\"),\n",
    "                              name=\"Share Price\"), row=1, col=1)\n",
    "    \n",
    "    # Add revenue trace to the second subplot\n",
    "    fig.add_trace(go.Scatter(x=pd.to_datetime(revenue_data_specific.Date, infer_datetime_format=True),\n",
    "                              y=revenue_data_specific.Revenue.astype(\"float\"),\n",
    "                              name=\"Revenue\"), row=2, col=1)\n",
    "    \n",
    "    # Update x-axis titles for both plots\n",
    "    fig.update_xaxes(title_text=\"Date\", row=1, col=1)\n",
    "    fig.update_xaxes(title_text=\"Date\", row=2, col=1)\n",
    "    \n",
    "    # Update y-axis titles for price and revenue\n",
    "    fig.update_yaxes(title_text=\"Price ($US)\", row=1, col=1)\n",
    "    fig.update_yaxes(title_text=\"Revenue ($US Millions)\", row=2, col=1)\n",
    "    \n",
    "    # Update layout settings for the figure\n",
    "    fig.update_layout(showlegend=False,\n",
    "                      height=900,\n",
    "                      title=stock,\n",
    "                      xaxis_rangeslider_visible=True)\n",
    "    \n",
    "    # Display the plot\n",
    "    fig.show()\n"
   ]
  },
  {
   "cell_type": "markdown",
   "id": "ef854c56-22ce-46bd-b509-08d14a19b9e3",
   "metadata": {},
   "source": [
    "## Fetching Tesla Data\n",
    "Let's retrieve the historical stock price data for Tesla (TSLA)."
   ]
  },
  {
   "cell_type": "code",
   "execution_count": 5,
   "id": "72c5051c-2d6c-4bf0-979c-df46247b3aaa",
   "metadata": {},
   "outputs": [
    {
     "data": {
      "text/html": [
       "<div>\n",
       "<style scoped>\n",
       "    .dataframe tbody tr th:only-of-type {\n",
       "        vertical-align: middle;\n",
       "    }\n",
       "\n",
       "    .dataframe tbody tr th {\n",
       "        vertical-align: top;\n",
       "    }\n",
       "\n",
       "    .dataframe thead th {\n",
       "        text-align: right;\n",
       "    }\n",
       "</style>\n",
       "<table border=\"1\" class=\"dataframe\">\n",
       "  <thead>\n",
       "    <tr style=\"text-align: right;\">\n",
       "      <th></th>\n",
       "      <th>Date</th>\n",
       "      <th>Open</th>\n",
       "      <th>High</th>\n",
       "      <th>Low</th>\n",
       "      <th>Close</th>\n",
       "      <th>Volume</th>\n",
       "      <th>Dividends</th>\n",
       "      <th>Stock Splits</th>\n",
       "    </tr>\n",
       "  </thead>\n",
       "  <tbody>\n",
       "    <tr>\n",
       "      <th>0</th>\n",
       "      <td>2010-06-29 00:00:00-04:00</td>\n",
       "      <td>1.266667</td>\n",
       "      <td>1.666667</td>\n",
       "      <td>1.169333</td>\n",
       "      <td>1.592667</td>\n",
       "      <td>281494500</td>\n",
       "      <td>0.0</td>\n",
       "      <td>0.0</td>\n",
       "    </tr>\n",
       "    <tr>\n",
       "      <th>1</th>\n",
       "      <td>2010-06-30 00:00:00-04:00</td>\n",
       "      <td>1.719333</td>\n",
       "      <td>2.028000</td>\n",
       "      <td>1.553333</td>\n",
       "      <td>1.588667</td>\n",
       "      <td>257806500</td>\n",
       "      <td>0.0</td>\n",
       "      <td>0.0</td>\n",
       "    </tr>\n",
       "    <tr>\n",
       "      <th>2</th>\n",
       "      <td>2010-07-01 00:00:00-04:00</td>\n",
       "      <td>1.666667</td>\n",
       "      <td>1.728000</td>\n",
       "      <td>1.351333</td>\n",
       "      <td>1.464000</td>\n",
       "      <td>123282000</td>\n",
       "      <td>0.0</td>\n",
       "      <td>0.0</td>\n",
       "    </tr>\n",
       "    <tr>\n",
       "      <th>3</th>\n",
       "      <td>2010-07-02 00:00:00-04:00</td>\n",
       "      <td>1.533333</td>\n",
       "      <td>1.540000</td>\n",
       "      <td>1.247333</td>\n",
       "      <td>1.280000</td>\n",
       "      <td>77097000</td>\n",
       "      <td>0.0</td>\n",
       "      <td>0.0</td>\n",
       "    </tr>\n",
       "    <tr>\n",
       "      <th>4</th>\n",
       "      <td>2010-07-06 00:00:00-04:00</td>\n",
       "      <td>1.333333</td>\n",
       "      <td>1.333333</td>\n",
       "      <td>1.055333</td>\n",
       "      <td>1.074000</td>\n",
       "      <td>103003500</td>\n",
       "      <td>0.0</td>\n",
       "      <td>0.0</td>\n",
       "    </tr>\n",
       "  </tbody>\n",
       "</table>\n",
       "</div>"
      ],
      "text/plain": [
       "                       Date      Open      High       Low     Close  \\\n",
       "0 2010-06-29 00:00:00-04:00  1.266667  1.666667  1.169333  1.592667   \n",
       "1 2010-06-30 00:00:00-04:00  1.719333  2.028000  1.553333  1.588667   \n",
       "2 2010-07-01 00:00:00-04:00  1.666667  1.728000  1.351333  1.464000   \n",
       "3 2010-07-02 00:00:00-04:00  1.533333  1.540000  1.247333  1.280000   \n",
       "4 2010-07-06 00:00:00-04:00  1.333333  1.333333  1.055333  1.074000   \n",
       "\n",
       "      Volume  Dividends  Stock Splits  \n",
       "0  281494500        0.0           0.0  \n",
       "1  257806500        0.0           0.0  \n",
       "2  123282000        0.0           0.0  \n",
       "3   77097000        0.0           0.0  \n",
       "4  103003500        0.0           0.0  "
      ]
     },
     "execution_count": 5,
     "metadata": {},
     "output_type": "execute_result"
    }
   ],
   "source": [
    "tesla = yf.Ticker('TSLA')  # Create a Ticker object for Tesla\n",
    "tesla_data = tesla.history(period='max')  # Get historical stock data\n",
    "tesla_data.reset_index(inplace=True)  # Reset index to make 'Date' a column\n",
    "\n",
    "tesla_data.head()  # Display the first few rows of Tesla stock data"
   ]
  },
  {
   "cell_type": "markdown",
   "id": "10f7ab9b-0fc6-4f2d-9c5d-ec939dd64271",
   "metadata": {},
   "source": [
    "## Fetching Tesla Revenue Data\n",
    "Next, we will scrape Tesla's quarterly revenue data from the specified URL."
   ]
  },
  {
   "cell_type": "code",
   "execution_count": 7,
   "id": "40d913c7-6f35-44fb-98ea-98507e3bf5a5",
   "metadata": {},
   "outputs": [
    {
     "data": {
      "text/html": [
       "<div>\n",
       "<style scoped>\n",
       "    .dataframe tbody tr th:only-of-type {\n",
       "        vertical-align: middle;\n",
       "    }\n",
       "\n",
       "    .dataframe tbody tr th {\n",
       "        vertical-align: top;\n",
       "    }\n",
       "\n",
       "    .dataframe thead th {\n",
       "        text-align: right;\n",
       "    }\n",
       "</style>\n",
       "<table border=\"1\" class=\"dataframe\">\n",
       "  <thead>\n",
       "    <tr style=\"text-align: right;\">\n",
       "      <th></th>\n",
       "      <th>Date</th>\n",
       "      <th>Revenue</th>\n",
       "    </tr>\n",
       "  </thead>\n",
       "  <tbody>\n",
       "    <tr>\n",
       "      <th>0</th>\n",
       "      <td>2022-09-30</td>\n",
       "      <td>$21,454</td>\n",
       "    </tr>\n",
       "    <tr>\n",
       "      <th>1</th>\n",
       "      <td>2022-06-30</td>\n",
       "      <td>$16,934</td>\n",
       "    </tr>\n",
       "    <tr>\n",
       "      <th>2</th>\n",
       "      <td>2022-03-31</td>\n",
       "      <td>$18,756</td>\n",
       "    </tr>\n",
       "    <tr>\n",
       "      <th>3</th>\n",
       "      <td>2021-12-31</td>\n",
       "      <td>$17,719</td>\n",
       "    </tr>\n",
       "    <tr>\n",
       "      <th>4</th>\n",
       "      <td>2021-09-30</td>\n",
       "      <td>$13,757</td>\n",
       "    </tr>\n",
       "  </tbody>\n",
       "</table>\n",
       "</div>"
      ],
      "text/plain": [
       "         Date  Revenue\n",
       "0  2022-09-30  $21,454\n",
       "1  2022-06-30  $16,934\n",
       "2  2022-03-31  $18,756\n",
       "3  2021-12-31  $17,719\n",
       "4  2021-09-30  $13,757"
      ]
     },
     "execution_count": 7,
     "metadata": {},
     "output_type": "execute_result"
    }
   ],
   "source": [
    "url = 'https://cf-courses-data.s3.us.cloud-object-storage.appdomain.cloud/IBMDeveloperSkillsNetwork-PY0220EN-SkillsNetwork/labs/project/revenue.htm'\n",
    "html_data = requests.get(url).text  # Get the HTML data from the URL\n",
    "soup = BeautifulSoup(html_data, 'html.parser')  # Parse HTML using BeautifulSoup\n",
    "tesla_revenue_all = pd.read_html(html_data)  # Read tables from HTML\n",
    "tesla_revenue = tesla_revenue_all[1].rename(columns={'Tesla Quarterly Revenue (Millions of US $)': 'Date',\n",
    "                                                      'Tesla Quarterly Revenue (Millions of US $).1': 'Revenue'})  # Rename columns\n",
    "\n",
    "tesla_revenue.head()  # Display the first few rows of Tesla revenue data"
   ]
  },
  {
   "cell_type": "markdown",
   "id": "68cce2af-81ef-4675-8af0-a79c558c3b8d",
   "metadata": {},
   "source": [
    "## Cleaning Tesla Revenue Data\n",
    "After scraping, we will clean the revenue data by removing commas and dollar signs, and dropping any rows with missing or empty values."
   ]
  },
  {
   "cell_type": "code",
   "execution_count": 9,
   "id": "31ed78d0-e0d8-4e77-878c-3eb891f4119e",
   "metadata": {},
   "outputs": [
    {
     "data": {
      "text/html": [
       "<div>\n",
       "<style scoped>\n",
       "    .dataframe tbody tr th:only-of-type {\n",
       "        vertical-align: middle;\n",
       "    }\n",
       "\n",
       "    .dataframe tbody tr th {\n",
       "        vertical-align: top;\n",
       "    }\n",
       "\n",
       "    .dataframe thead th {\n",
       "        text-align: right;\n",
       "    }\n",
       "</style>\n",
       "<table border=\"1\" class=\"dataframe\">\n",
       "  <thead>\n",
       "    <tr style=\"text-align: right;\">\n",
       "      <th></th>\n",
       "      <th>Date</th>\n",
       "      <th>Revenue</th>\n",
       "    </tr>\n",
       "  </thead>\n",
       "  <tbody>\n",
       "    <tr>\n",
       "      <th>48</th>\n",
       "      <td>2010-09-30</td>\n",
       "      <td>31</td>\n",
       "    </tr>\n",
       "    <tr>\n",
       "      <th>49</th>\n",
       "      <td>2010-06-30</td>\n",
       "      <td>28</td>\n",
       "    </tr>\n",
       "    <tr>\n",
       "      <th>50</th>\n",
       "      <td>2010-03-31</td>\n",
       "      <td>21</td>\n",
       "    </tr>\n",
       "    <tr>\n",
       "      <th>52</th>\n",
       "      <td>2009-09-30</td>\n",
       "      <td>46</td>\n",
       "    </tr>\n",
       "    <tr>\n",
       "      <th>53</th>\n",
       "      <td>2009-06-30</td>\n",
       "      <td>27</td>\n",
       "    </tr>\n",
       "  </tbody>\n",
       "</table>\n",
       "</div>"
      ],
      "text/plain": [
       "          Date Revenue\n",
       "48  2010-09-30      31\n",
       "49  2010-06-30      28\n",
       "50  2010-03-31      21\n",
       "52  2009-09-30      46\n",
       "53  2009-06-30      27"
      ]
     },
     "execution_count": 9,
     "metadata": {},
     "output_type": "execute_result"
    }
   ],
   "source": [
    "tesla_revenue[\"Revenue\"] = tesla_revenue['Revenue'].str.replace(r',|\\$', \"\", regex=True)  # Remove commas and dollar signs\n",
    "tesla_revenue.dropna(inplace=True)  # Drop rows with missing values\n",
    "tesla_revenue = tesla_revenue[tesla_revenue['Revenue'] != \"\"]  # Remove empty revenue values\n",
    "\n",
    "tesla_revenue.tail()  # Display the last few rows of the cleaned revenue data"
   ]
  },
  {
   "cell_type": "markdown",
   "id": "e72cb43b-6068-49b2-a8c5-1458215f1da5",
   "metadata": {},
   "source": [
    "## Fetching GameStop Data\n",
    "Now, let's retrieve the historical stock price data for GameStop (GME)."
   ]
  },
  {
   "cell_type": "code",
   "execution_count": 11,
   "id": "e469bf21-0b92-4757-b746-c2a8149fdfe2",
   "metadata": {},
   "outputs": [
    {
     "data": {
      "text/html": [
       "<div>\n",
       "<style scoped>\n",
       "    .dataframe tbody tr th:only-of-type {\n",
       "        vertical-align: middle;\n",
       "    }\n",
       "\n",
       "    .dataframe tbody tr th {\n",
       "        vertical-align: top;\n",
       "    }\n",
       "\n",
       "    .dataframe thead th {\n",
       "        text-align: right;\n",
       "    }\n",
       "</style>\n",
       "<table border=\"1\" class=\"dataframe\">\n",
       "  <thead>\n",
       "    <tr style=\"text-align: right;\">\n",
       "      <th></th>\n",
       "      <th>Date</th>\n",
       "      <th>Open</th>\n",
       "      <th>High</th>\n",
       "      <th>Low</th>\n",
       "      <th>Close</th>\n",
       "      <th>Volume</th>\n",
       "      <th>Dividends</th>\n",
       "      <th>Stock Splits</th>\n",
       "    </tr>\n",
       "  </thead>\n",
       "  <tbody>\n",
       "    <tr>\n",
       "      <th>0</th>\n",
       "      <td>2002-02-13 00:00:00-05:00</td>\n",
       "      <td>1.620129</td>\n",
       "      <td>1.693350</td>\n",
       "      <td>1.603296</td>\n",
       "      <td>1.691667</td>\n",
       "      <td>76216000</td>\n",
       "      <td>0.0</td>\n",
       "      <td>0.0</td>\n",
       "    </tr>\n",
       "    <tr>\n",
       "      <th>1</th>\n",
       "      <td>2002-02-14 00:00:00-05:00</td>\n",
       "      <td>1.712708</td>\n",
       "      <td>1.716074</td>\n",
       "      <td>1.670626</td>\n",
       "      <td>1.683251</td>\n",
       "      <td>11021600</td>\n",
       "      <td>0.0</td>\n",
       "      <td>0.0</td>\n",
       "    </tr>\n",
       "    <tr>\n",
       "      <th>2</th>\n",
       "      <td>2002-02-15 00:00:00-05:00</td>\n",
       "      <td>1.683250</td>\n",
       "      <td>1.687458</td>\n",
       "      <td>1.658001</td>\n",
       "      <td>1.674834</td>\n",
       "      <td>8389600</td>\n",
       "      <td>0.0</td>\n",
       "      <td>0.0</td>\n",
       "    </tr>\n",
       "    <tr>\n",
       "      <th>3</th>\n",
       "      <td>2002-02-19 00:00:00-05:00</td>\n",
       "      <td>1.666417</td>\n",
       "      <td>1.666417</td>\n",
       "      <td>1.578047</td>\n",
       "      <td>1.607504</td>\n",
       "      <td>7410400</td>\n",
       "      <td>0.0</td>\n",
       "      <td>0.0</td>\n",
       "    </tr>\n",
       "    <tr>\n",
       "      <th>4</th>\n",
       "      <td>2002-02-20 00:00:00-05:00</td>\n",
       "      <td>1.615920</td>\n",
       "      <td>1.662210</td>\n",
       "      <td>1.603296</td>\n",
       "      <td>1.662210</td>\n",
       "      <td>6892800</td>\n",
       "      <td>0.0</td>\n",
       "      <td>0.0</td>\n",
       "    </tr>\n",
       "  </tbody>\n",
       "</table>\n",
       "</div>"
      ],
      "text/plain": [
       "                       Date      Open      High       Low     Close    Volume  \\\n",
       "0 2002-02-13 00:00:00-05:00  1.620129  1.693350  1.603296  1.691667  76216000   \n",
       "1 2002-02-14 00:00:00-05:00  1.712708  1.716074  1.670626  1.683251  11021600   \n",
       "2 2002-02-15 00:00:00-05:00  1.683250  1.687458  1.658001  1.674834   8389600   \n",
       "3 2002-02-19 00:00:00-05:00  1.666417  1.666417  1.578047  1.607504   7410400   \n",
       "4 2002-02-20 00:00:00-05:00  1.615920  1.662210  1.603296  1.662210   6892800   \n",
       "\n",
       "   Dividends  Stock Splits  \n",
       "0        0.0           0.0  \n",
       "1        0.0           0.0  \n",
       "2        0.0           0.0  \n",
       "3        0.0           0.0  \n",
       "4        0.0           0.0  "
      ]
     },
     "execution_count": 11,
     "metadata": {},
     "output_type": "execute_result"
    }
   ],
   "source": [
    "gme = yf.Ticker('GME')  # Create a Ticker object for GameStop\n",
    "gme_data = gme.history(period='max')  # Get historical stock data for GameStop\n",
    "gme_data.reset_index(inplace=True)  # Reset index to make 'Date' a column\n",
    "\n",
    "gme_data.head()  # Display the first few rows of GameStop stock data"
   ]
  },
  {
   "cell_type": "markdown",
   "id": "94b7f2e7-4b94-41f4-ba12-94b98ea76857",
   "metadata": {},
   "source": [
    "## Fetching GameStop Revenue Data\n",
    "Similarly, we will scrape GameStop's quarterly revenue data from the provided URL using the same approach as for Tesla."
   ]
  },
  {
   "cell_type": "code",
   "execution_count": 13,
   "id": "25b4b9ca-6604-4553-83fc-23248117d9ec",
   "metadata": {},
   "outputs": [
    {
     "data": {
      "text/html": [
       "<div>\n",
       "<style scoped>\n",
       "    .dataframe tbody tr th:only-of-type {\n",
       "        vertical-align: middle;\n",
       "    }\n",
       "\n",
       "    .dataframe tbody tr th {\n",
       "        vertical-align: top;\n",
       "    }\n",
       "\n",
       "    .dataframe thead th {\n",
       "        text-align: right;\n",
       "    }\n",
       "</style>\n",
       "<table border=\"1\" class=\"dataframe\">\n",
       "  <thead>\n",
       "    <tr style=\"text-align: right;\">\n",
       "      <th></th>\n",
       "      <th>Date</th>\n",
       "      <th>Revenue</th>\n",
       "    </tr>\n",
       "  </thead>\n",
       "  <tbody>\n",
       "    <tr>\n",
       "      <th>0</th>\n",
       "      <td>2020-04-30</td>\n",
       "      <td>$1,021</td>\n",
       "    </tr>\n",
       "    <tr>\n",
       "      <th>1</th>\n",
       "      <td>2020-01-31</td>\n",
       "      <td>$2,194</td>\n",
       "    </tr>\n",
       "    <tr>\n",
       "      <th>2</th>\n",
       "      <td>2019-10-31</td>\n",
       "      <td>$1,439</td>\n",
       "    </tr>\n",
       "    <tr>\n",
       "      <th>3</th>\n",
       "      <td>2019-07-31</td>\n",
       "      <td>$1,286</td>\n",
       "    </tr>\n",
       "    <tr>\n",
       "      <th>4</th>\n",
       "      <td>2019-04-30</td>\n",
       "      <td>$1,548</td>\n",
       "    </tr>\n",
       "  </tbody>\n",
       "</table>\n",
       "</div>"
      ],
      "text/plain": [
       "         Date Revenue\n",
       "0  2020-04-30  $1,021\n",
       "1  2020-01-31  $2,194\n",
       "2  2019-10-31  $1,439\n",
       "3  2019-07-31  $1,286\n",
       "4  2019-04-30  $1,548"
      ]
     },
     "execution_count": 13,
     "metadata": {},
     "output_type": "execute_result"
    }
   ],
   "source": [
    "url2 = 'https://cf-courses-data.s3.us.cloud-object-storage.appdomain.cloud/IBMDeveloperSkillsNetwork-PY0220EN-SkillsNetwork/labs/project/stock.html'\n",
    "html_data_2 = requests.get(url2).text  # Get the HTML data from the second URL\n",
    "soup = BeautifulSoup(html_data_2, 'html.parser')  # Parse HTML using BeautifulSoup\n",
    "gme_revenue_all = pd.read_html(html_data_2)  # Read tables from HTML\n",
    "gme_revenue = gme_revenue_all[1].rename(columns={'GameStop Quarterly Revenue (Millions of US $)': 'Date', \n",
    "                                                  'GameStop Quarterly Revenue (Millions of US $).1': 'Revenue'})  # Rename columns\n",
    "\n",
    "gme_revenue.head()  # Display the first few rows of GameStop revenue data"
   ]
  },
  {
   "cell_type": "markdown",
   "id": "b818ce44-4d20-4c62-8cfe-7a8bdddc9ee3",
   "metadata": {},
   "source": [
    "## Cleaning GameStop Revenue Data\n",
    "We will again clean the revenue data for GameStop by removing unwanted characters and dropping any incomplete entries."
   ]
  },
  {
   "cell_type": "code",
   "execution_count": 15,
   "id": "66e89e14-8f74-419a-b15c-18732f4cd928",
   "metadata": {},
   "outputs": [
    {
     "data": {
      "text/html": [
       "<div>\n",
       "<style scoped>\n",
       "    .dataframe tbody tr th:only-of-type {\n",
       "        vertical-align: middle;\n",
       "    }\n",
       "\n",
       "    .dataframe tbody tr th {\n",
       "        vertical-align: top;\n",
       "    }\n",
       "\n",
       "    .dataframe thead th {\n",
       "        text-align: right;\n",
       "    }\n",
       "</style>\n",
       "<table border=\"1\" class=\"dataframe\">\n",
       "  <thead>\n",
       "    <tr style=\"text-align: right;\">\n",
       "      <th></th>\n",
       "      <th>Date</th>\n",
       "      <th>Revenue</th>\n",
       "    </tr>\n",
       "  </thead>\n",
       "  <tbody>\n",
       "    <tr>\n",
       "      <th>57</th>\n",
       "      <td>2006-01-31</td>\n",
       "      <td>1667</td>\n",
       "    </tr>\n",
       "    <tr>\n",
       "      <th>58</th>\n",
       "      <td>2005-10-31</td>\n",
       "      <td>534</td>\n",
       "    </tr>\n",
       "    <tr>\n",
       "      <th>59</th>\n",
       "      <td>2005-07-31</td>\n",
       "      <td>416</td>\n",
       "    </tr>\n",
       "    <tr>\n",
       "      <th>60</th>\n",
       "      <td>2005-04-30</td>\n",
       "      <td>475</td>\n",
       "    </tr>\n",
       "    <tr>\n",
       "      <th>61</th>\n",
       "      <td>2005-01-31</td>\n",
       "      <td>709</td>\n",
       "    </tr>\n",
       "  </tbody>\n",
       "</table>\n",
       "</div>"
      ],
      "text/plain": [
       "          Date Revenue\n",
       "57  2006-01-31    1667\n",
       "58  2005-10-31     534\n",
       "59  2005-07-31     416\n",
       "60  2005-04-30     475\n",
       "61  2005-01-31     709"
      ]
     },
     "execution_count": 15,
     "metadata": {},
     "output_type": "execute_result"
    }
   ],
   "source": [
    "gme_revenue['Revenue'] = gme_revenue['Revenue'].str.replace(r',|\\$', '', regex=True)  # Clean revenue data\n",
    "gme_revenue.dropna(inplace=True)  # Drop rows with missing values\n",
    "gme_revenue = gme_revenue[gme_revenue['Revenue'] != \"\"]  # Remove empty revenue values\n",
    "\n",
    "gme_revenue.tail()  # Display the last few rows of the cleaned revenue data"
   ]
  },
  {
   "cell_type": "markdown",
   "id": "04eb8e5c-bf20-45f8-a083-a34d43d4e5b3",
   "metadata": {},
   "source": [
    "## Creating Graphs\n",
    "Finally, we utilize the `make_graph` function to visualize both Tesla's and GameStop's historical stock prices and revenues."
   ]
  },
  {
   "cell_type": "code",
   "execution_count": 17,
   "id": "0d393744-0d03-4200-b71e-2a33ed6e9b9e",
   "metadata": {},
   "outputs": [
    {
     "name": "stderr",
     "output_type": "stream",
     "text": [
      "C:\\Users\\Moham\\AppData\\Local\\Temp\\ipykernel_14156\\1202173309.py:13: UserWarning:\n",
      "\n",
      "The argument 'infer_datetime_format' is deprecated and will be removed in a future version. A strict version of it is now the default, see https://pandas.pydata.org/pdeps/0004-consistent-to-datetime-parsing.html. You can safely remove this argument.\n",
      "\n",
      "C:\\Users\\Moham\\AppData\\Local\\Temp\\ipykernel_14156\\1202173309.py:18: UserWarning:\n",
      "\n",
      "The argument 'infer_datetime_format' is deprecated and will be removed in a future version. A strict version of it is now the default, see https://pandas.pydata.org/pdeps/0004-consistent-to-datetime-parsing.html. You can safely remove this argument.\n",
      "\n"
     ]
    },
    {
     "data": {
      "image/svg+xml": [
       "<svg class=\"main-svg\" xmlns=\"http://www.w3.org/2000/svg\" xmlns:xlink=\"http://www.w3.org/1999/xlink\" width=\"700\" height=\"900\" style=\"\" viewBox=\"0 0 700 900\"><rect x=\"0\" y=\"0\" width=\"700\" height=\"900\" style=\"fill: rgb(255, 255, 255); fill-opacity: 1;\"/><defs id=\"defs-fe6a47\"><g class=\"clips\"><clipPath id=\"clipfe6a47xyplot\" class=\"plotclip\"><rect width=\"540\" height=\"251.99999999999997\"/></clipPath><clipPath id=\"clipfe6a47x2y2plot\" class=\"plotclip\"><rect width=\"540\" height=\"251.99999999999997\"/></clipPath><clipPath class=\"axesclip\" id=\"clipfe6a47x\"><rect x=\"80\" y=\"0\" width=\"540\" height=\"900\"/></clipPath><clipPath class=\"axesclip\" id=\"clipfe6a47y\"><rect x=\"0\" y=\"100.00000000000009\" width=\"700\" height=\"251.99999999999997\"/></clipPath><clipPath class=\"axesclip\" id=\"clipfe6a47xy\"><rect x=\"80\" y=\"100.00000000000009\" width=\"540\" height=\"251.99999999999997\"/></clipPath><clipPath class=\"axesclip\" id=\"clipfe6a47y2\"><rect x=\"0\" y=\"568\" width=\"700\" height=\"251.99999999999997\"/></clipPath><clipPath class=\"axesclip\" id=\"clipfe6a47xy2\"><rect x=\"80\" y=\"568\" width=\"540\" height=\"251.99999999999997\"/></clipPath><clipPath class=\"axesclip\" id=\"clipfe6a47x2\"><rect x=\"80\" y=\"0\" width=\"540\" height=\"900\"/></clipPath><clipPath class=\"axesclip\" id=\"clipfe6a47x2y\"><rect x=\"80\" y=\"100.00000000000009\" width=\"540\" height=\"251.99999999999997\"/></clipPath><clipPath class=\"axesclip\" id=\"clipfe6a47x2y2\"><rect x=\"80\" y=\"568\" width=\"540\" height=\"251.99999999999997\"/></clipPath></g><g class=\"gradients\"/><g class=\"patterns\"/></defs><g class=\"bglayer\"><rect class=\"bg\" x=\"80\" y=\"100.00000000000009\" width=\"540\" height=\"251.99999999999997\" style=\"fill: rgb(229, 236, 246); fill-opacity: 1; stroke-width: 0;\"/><rect class=\"bg\" x=\"80\" y=\"568\" width=\"540\" height=\"251.99999999999997\" style=\"fill: rgb(229, 236, 246); fill-opacity: 1; stroke-width: 0;\"/></g><g class=\"layer-below\"><g class=\"imagelayer\"/><g class=\"shapelayer\"/></g><g class=\"cartesianlayer\"><g class=\"subplot xy\"><g class=\"layer-subplot\"><g class=\"shapelayer\"/><g class=\"imagelayer\"/></g><g class=\"minor-gridlayer\"><g class=\"x\"/><g class=\"y\"/></g><g class=\"gridlayer\"><g class=\"x\"><path class=\"xgrid crisp\" transform=\"translate(102.88,0)\" d=\"M0,100.00000000000009v251.99999999999997\" style=\"stroke: rgb(255, 255, 255); stroke-opacity: 1; stroke-width: 1px;\"/><path class=\"xgrid crisp\" transform=\"translate(193.14,0)\" d=\"M0,100.00000000000009v251.99999999999997\" style=\"stroke: rgb(255, 255, 255); stroke-opacity: 1; stroke-width: 1px;\"/><path class=\"xgrid crisp\" transform=\"translate(283.53999999999996,0)\" d=\"M0,100.00000000000009v251.99999999999997\" style=\"stroke: rgb(255, 255, 255); stroke-opacity: 1; stroke-width: 1px;\"/><path class=\"xgrid crisp\" transform=\"translate(373.8,0)\" d=\"M0,100.00000000000009v251.99999999999997\" style=\"stroke: rgb(255, 255, 255); stroke-opacity: 1; stroke-width: 1px;\"/><path class=\"xgrid crisp\" transform=\"translate(464.2,0)\" d=\"M0,100.00000000000009v251.99999999999997\" style=\"stroke: rgb(255, 255, 255); stroke-opacity: 1; stroke-width: 1px;\"/><path class=\"xgrid crisp\" transform=\"translate(554.46,0)\" d=\"M0,100.00000000000009v251.99999999999997\" style=\"stroke: rgb(255, 255, 255); stroke-opacity: 1; stroke-width: 1px;\"/></g><g class=\"y\"><path class=\"ygrid crisp\" transform=\"translate(0,301.55000000000007)\" d=\"M80,0h540\" style=\"stroke: rgb(255, 255, 255); stroke-opacity: 1; stroke-width: 1px;\"/><path class=\"ygrid crisp\" transform=\"translate(0,262.8900000000001)\" d=\"M80,0h540\" style=\"stroke: rgb(255, 255, 255); stroke-opacity: 1; stroke-width: 1px;\"/><path class=\"ygrid crisp\" transform=\"translate(0,224.23000000000008)\" d=\"M80,0h540\" style=\"stroke: rgb(255, 255, 255); stroke-opacity: 1; stroke-width: 1px;\"/><path class=\"ygrid crisp\" transform=\"translate(0,185.57000000000008)\" d=\"M80,0h540\" style=\"stroke: rgb(255, 255, 255); stroke-opacity: 1; stroke-width: 1px;\"/><path class=\"ygrid crisp\" transform=\"translate(0,146.9000000000001)\" d=\"M80,0h540\" style=\"stroke: rgb(255, 255, 255); stroke-opacity: 1; stroke-width: 1px;\"/><path class=\"ygrid crisp\" transform=\"translate(0,108.24000000000008)\" d=\"M80,0h540\" style=\"stroke: rgb(255, 255, 255); stroke-opacity: 1; stroke-width: 1px;\"/></g></g><g class=\"zerolinelayer\"><path class=\"yzl zl crisp\" transform=\"translate(0,340.2100000000001)\" d=\"M80,0h540\" style=\"stroke: rgb(255, 255, 255); stroke-opacity: 1; stroke-width: 2px;\"/></g><g class=\"layer-between\"><g class=\"shapelayer\"/><g class=\"imagelayer\"/></g><path class=\"xlines-below\"/><path class=\"ylines-below\"/><g class=\"overlines-below\"/><g class=\"xaxislayer-below\"/><g class=\"yaxislayer-below\"/><g class=\"overaxes-below\"/><g class=\"plot\" transform=\"translate(80,100.00000000000009)\" clip-path=\"url(#clipfe6a47xyplot)\"><g class=\"scatterlayer mlayer\"><g class=\"trace scatter tracec44c6d\" style=\"stroke-miterlimit: 2; opacity: 1;\"><g class=\"fills\"/><g class=\"errorbars\"/><g class=\"lines\"><path class=\"js-line\" d=\"M45.01,238.98L47.11,239.15L47.48,239.09L48.84,239.19L49.21,239.14L58.24,239.14L58.37,239.16L62.69,238.62L63.06,238.49L64.42,238.59L64.8,238.65L66.77,238.53L66.9,238.66L68.75,238.76L69.12,238.75L72.59,239.03L72.71,238.95L75.43,238.98L75.55,238.96L91.26,238.73L91.63,238.75L110.79,238.7L110.92,238.74L116.85,238.72L116.98,238.69L119.82,238.47L120.19,238.48L137.13,238.45L137.5,238.36L138.74,238.76L138.86,238.69L141.46,238.67L141.83,238.69L149.75,238.75L149.87,238.8L169.04,238.26L169.53,237.95L170.89,237.96L171.26,237.98L172.99,237.38L173.12,237.43L174.11,237.34L174.23,236.64L175.1,235.46L175.22,235.5L175.59,235.58L175.84,235.72L176.08,235.21L176.58,234.53L177.32,235.44L177.57,235.3L177.69,235.2L178.56,235.15L178.68,235.04L182.02,233.74L182.14,233.52L182.51,233.65L182.64,234.59L183.5,233.89L183.63,233.94L185.11,232.76L185.23,232.89L185.36,233.29L185.48,232.3L186.1,232.72L186.22,233.03L189.07,231.61L189.44,231.93L190.3,231.63L190.43,231.65L191.66,230.37L192.04,230.25L193.15,231.51L193.27,231.3L194.26,230.76L194.63,231.32L195.87,231.97L195.99,231.85L196.49,231.1L196.61,232.42L197.35,233.11L197.48,233.06L197.6,233.12L199.08,234L199.21,233.67L199.83,233.81L199.95,232.76L200.32,233.13L200.69,232.92L200.82,232.88L200.94,233.02L201.06,232.61L201.19,232.6L201.56,232.59L201.68,232.36L201.93,232.96L202.05,232.83L202.42,232.81L203.29,232.36L203.41,232.46L205.02,233.03L205.14,231.9L206.26,230.86L206.38,231.21L206.75,231.47L207.12,230.79L207.62,231.08L207.74,231L207.86,231.22L208.11,230.6L208.48,230.08L209.59,230.23L209.72,229.39L210.21,228.99L210.34,227.43L211.2,227.08L211.33,227.19L212.81,228.15L212.93,227.84L214.54,229.47L214.66,229.03L214.79,228.34L215.04,229.27L215.41,229.52L215.65,229.03L215.78,229.69L215.9,229.71L216.27,230L216.4,230.22L216.64,230L217.14,229.68L217.26,228.94L217.63,229.91L218,229.98L218.87,229.05L218.99,229.53L219.24,231.01L219.73,230.69L219.86,230.41L220.72,230.15L220.85,229.93L221.84,229.38L221.96,229.5L223.69,229.57L224.06,228.64L224.93,227.99L225.05,228.23L225.92,227.86L226.04,228.39L227.9,229.11L228.02,228.87L228.39,228.85L230.25,227.92L230.37,227.38L231.48,226.71L231.85,226.81L232.22,227.1L232.35,226.98L232.72,226.68L233.21,226.31L233.71,225.57L234.82,225.76L234.94,225.82L235.31,227.13L235.81,226.85L236.18,227.33L237.17,227.7L237.29,227.83L237.91,226.78L238.16,226.85L238.28,226.97L238.78,228.64L239.15,228.55L239.27,228.49L240.14,228.09L240.51,228.79L241.37,227.71L241.5,227.9L241.62,228.31L241.74,227.78L241.87,227.83L242.24,227.74L242.73,226.88L243.11,227.12L243.23,226.93L243.6,227.7L244.09,227.43L244.22,227.41L246.69,230.02L246.81,229.6L246.94,228.96L248.55,228.75L248.79,228.91L250.52,230.26L251.02,230.32L252.13,229.64L252.26,229.72L253.62,229.06L253.74,229.24L254.6,229.67L254.73,229.3L254.85,229.02L255.35,229.69L255.47,229.71L256.21,229.93L256.34,229.78L257.45,230.49L257.82,230.13L258.81,229.82L258.93,230.2L259.8,230.54L259.92,230.37L261.53,229.5L261.65,229.56L262.27,229.42L262.4,228.9L263.14,228.33L263.26,228.23L263.51,228.56L264,228.21L264.13,228.34L265.24,227.39L265.61,227.39L266.72,227.46L266.85,227.25L269.2,227.17L269.32,226.79L271.67,225.8L271.79,226.41L271.92,227.07L272.53,226.7L272.66,226.52L272.78,226.65L273.03,226.06L273.4,225.66L274.27,227.17L274.39,226.56L275.38,226.29L275.5,227.53L276.24,227.94L276.49,227.68L276.86,227.07L276.99,226.77L277.23,227.73L277.36,228.32L277.85,228.87L277.98,228.62L278.1,227.69L278.84,227.45L278.96,227.56L279.09,227.74L281.56,226.65L281.69,226.97L284.03,229.03L284.16,228.81L284.28,228.51L284.65,228.46L284.78,229.23L285.64,229.37L285.77,229.24L286.51,229.47L286.63,228.27L287.25,228.6L287.37,229.05L287.74,229.53L288.61,228.87L288.98,228.99L289.97,227.99L290.09,228.26L291.7,228.82L291.83,228.13L293.31,228.41L293.43,227.99L293.68,227.84L294.17,228.7L296.28,229.91L296.4,229.77L297.27,230.36L297.64,230.06L298.75,232.81L298.87,232.46L299.86,231.63L300.23,231.05L301.47,230.12L301.59,229.85L303.32,228.22L303.7,227.93L303.94,228.74L304.56,228.34L304.69,228.35L304.81,228.52L305.06,227.97L305.43,227.48L305.67,226.53L305.92,227.32L306.29,227.33L307.53,227.42L307.65,227.13L308.89,227.75L309.01,228.24L310,229.44L310.13,229.53L310.99,229.12L311.12,228.86L311.98,228.72L312.48,228.71L313.22,228.84L313.34,228.24L313.46,228.07L313.71,228.94L314.08,228.98L314.95,228.89L315.07,228.89L315.44,230.26L315.81,229.98L315.94,229.81L316.8,229.18L316.93,229.16L319.77,228.11L320.14,228.36L321.38,228.62L321.5,228.58L323.85,229.29L323.98,229.86L324.96,230.19L325.34,229.99L325.58,230.09L325.83,229.63L326.2,229.58L327.56,229.7L327.93,229.2L329.66,230.22L329.79,229.95L330.65,229.78L330.78,229.79L331.39,230.02L331.52,230.38L332.26,230.25L332.38,230.17L333.13,230.86L333.37,230.73L333.5,230.49L333.99,230.7L334.24,230.26L334.49,230.08L336.59,230.29L336.71,230L337.82,229.47L337.95,229.22L342.28,227.18L342.65,227.29L343.64,226.94L343.76,226.7L344.5,225.73L344.63,225.79L344.75,226.35L345.37,225.92L345.49,226.12L345.61,227.02L346.6,227.25L346.98,227.26L347.84,227.52L347.96,226.91L349.08,227.08L349.2,226.65L351.3,224.11L351.43,224.3L351.55,224.91L352.42,224.47L352.54,224.62L353.9,223.57L354.02,223.78L354.15,224.18L354.27,224.98L354.77,224.38L354.89,223.65L355.26,223.47L355.63,223.93L356.62,224.55L356.74,224.22L357.86,222.7L358.23,222.31L359.34,220.59L359.46,220.87L359.59,221.07L360.33,220.49L360.45,220.45L361.69,222.04L361.94,223.35L362.06,224.29L362.68,223.35L362.8,223.23L363.42,223.74L363.67,223.45L363.79,223.21L363.92,223.29L364.29,222.56L365.28,223.74L365.4,223.41L365.52,222.32L366.14,221.39L366.39,221.89L366.51,221.77L367.13,221.51L367.25,222.07L367.38,222.3L367.75,222.8L368,222.03L368.12,222.02L368.61,222.4L368.86,222.01L368.99,221.87L369.97,222.51L370.35,221.47L371.21,220.37L371.46,220.94L371.58,221.32L372.45,222.71L372.57,222.63L373.31,221.9L373.44,221.82L373.81,222.54L374.3,221.89L374.67,222.14L374.92,221.67L375.17,222.42L375.54,222.84L376.4,223.71L376.53,223.12L376.78,224.79L377.39,224.44L377.52,224.52L378.51,224.11L378.63,223.97L379.5,223.95L379.87,223.88L380.86,224.56L380.98,224.07L381.1,224.17L381.23,223.97L381.6,223.26L382.09,222.51L382.46,222.75L382.59,223.15L383.82,224.16L384.32,223.69L384.57,224L384.69,223.89L385.06,222.87L385.56,222.88L386.05,222.68L386.92,222.03L387.04,222.38L387.16,222.81L387.66,222.2L387.78,222.39L387.9,221.95L389.02,224.21L389.39,223.94L389.51,223.53L391.12,221.79L391.24,222.12L392.11,223.3L392.23,223.08L392.36,223.25L392.48,223.35L392.85,222.4L394.71,225.82L394.83,226.93L395.45,227.2L395.82,224.45L395.94,224.79L396.31,225.28L396.44,224.51L396.81,224.73L397.18,225.2L397.55,224.75L398.29,225.75L398.42,225.5L399.16,224.69L399.28,225.55L400.02,224.4L400.15,224.49L400.27,224.69L401.88,225.89L402,225.84L403.24,224.92L403.36,225.21L403.49,223.74L403.73,223.84L404.1,223.09L404.97,221.1L405.22,221.54L405.34,222.3L405.83,223.05L406.08,222.46L406.21,222.18L407.19,224.29L407.57,223.8L408.06,223.78L408.43,224.23L408.68,223.52L408.93,224.05L409.3,224.58L409.54,224.3L410.16,225.26L410.29,224.85L410.41,224.71L410.53,222.2L411.03,222.59L411.15,220.65L412.39,224.47L412.76,224.31L412.88,223.62L414.12,224.66L414.61,225.32L414.99,226.64L415.48,225.81L415.6,225.24L417.46,224.36L417.58,226.57L417.95,224.2L418.32,225.69L418.45,226.71L419.19,227.21L419.31,226.87L419.68,226.83L419.81,225.96L420.18,226.81L420.55,226.76L421.42,222.95L421.54,223.21L421.66,222.83L422.65,222.1L422.78,222.15L423.15,223.14L423.52,222.25L423.64,221.95L424.14,222.3L424.26,222.78L424.51,223.42L424.88,222.38L425,222.49L426.11,221.5L426.24,221.76L426.61,221.39L426.98,220.79L427.1,221.36L427.47,222.25L428.34,224.99L428.59,223.4L428.83,223L429.58,224.73L429.7,223.84L430.57,222.31L430.94,222.98L431.31,222.31L431.43,224.63L432.79,224.88L432.92,224.3L433.66,223.65L433.9,224.36L434.03,224.45L434.89,224.34L435.39,224.46L436.25,224.86L436.38,223.99L436.5,223.72L436.62,225.02L437,225.5L437.37,225.96L437.49,225.57L437.86,225.22L438.85,226.43L438.97,226.11L439.59,226.79L439.72,226.41L439.84,226.05L440.71,225.17L440.83,226.41L441.57,225.98L441.69,226.38L443.3,226.88L443.43,227.45L444.17,228.15L444.29,227.63L444.79,227.05L445.03,227.59L445.16,227.74L448.25,230.99L448.37,230.23L450.23,228.54L450.35,228.89L451.71,228.5L451.83,228.64L451.96,228.11L452.58,228.34L452.7,228.35L453.69,227.08L453.81,227.14L454.55,226.56L454.68,228.42L455.42,227.76L455.67,228.13L456.04,228.44L457.03,228.1L457.15,228.89L457.28,229.1L457.77,228.52L457.89,228.57L458.76,229.18L458.88,229.1L459.01,228.79L459.87,228.38L460,228.49L460.37,228.27L461.36,227.6L461.48,227.66L462.1,227.78L462.22,228.71L463.09,227.6L463.21,227.68L463.33,228.2L463.95,227.84L464.08,227.61L465.81,227.09L465.93,224.77L466.43,223.32L466.67,223.98L466.8,223.98L467.54,223.38L467.66,222.92L469.39,221.92L469.52,223.05L471,223.05L471.12,223.18L473.84,218.03L474.22,218.84L475.2,216.03L475.33,214.84L475.58,215.57L475.95,213.16L476.07,212.48L476.44,213.9L476.94,212.01L477.18,210.72L477.68,211.45L477.8,210.99L478.17,206.68L478.54,200.01L478.67,194.49L478.79,202.34L479.04,201.65L479.41,200.46L479.53,200.3L479.66,200.66L479.78,198.77L479.9,198.97L480.4,195.96L480.52,192.92L480.77,193.77L481.14,197.23L481.63,205.78L482.01,201.88L482.13,201.78L482.25,201.58L482.38,202.86L483.98,221.59L484.23,218.18L484.6,217.83L484.85,212.42L485.47,214.33L485.59,213.2L485.84,216.79L486.33,213.6L486.46,212.1L486.7,210.68L487.2,206.66L487.69,201.35L488.07,201.74L488.19,204.81L489.18,198.95L489.3,199.91L489.43,204.06L490.04,199.87L490.17,200L490.29,197.97L490.91,199.44L491.03,198.8L491.16,199.02L491.53,198.27L491.65,198.56L491.77,198.17L491.9,197.55L492.52,198L492.64,197.93L492.76,198.68L492.89,197.17L493.26,193.92L493.63,195.66L493.75,194.56L494.12,191.25L494.25,191.72L494.37,187.37L494.62,192L495.11,189.59L495.24,189.09L495.98,188.57L496.1,190.68L496.35,190.74L497.09,177.91L497.59,169.51L497.83,169.8L497.96,168.34L498.08,160.59L498.45,163.04L498.95,162.85L499.32,155.52L499.81,167.17L500.31,164.1L500.43,162.94L500.68,166.46L501.05,163.66L501.42,163.43L501.54,165.33L502.04,169.37L502.16,160.07L504.51,111.77L504.63,117.77L505.5,155.1L505.75,144.5L505.87,144.15L506.37,124.29L507.11,124.39L507.23,130.87L507.36,142.18L507.97,131.65L508.1,132.2L508.34,124.7L508.47,133.23L508.84,130.5L508.96,133.51L509.33,128.35L509.7,126.21L509.95,121.32L510.08,124.52L510.2,126.89L511.44,131.89L511.56,130.75L511.93,140.2L512.3,136.98L512.43,130.96L512.55,131.71L512.67,127.3L513.66,134.92L514.03,135.03L515.39,89.24L515.76,93.92L516.75,72.71L516.88,84.41L517.49,75.3L517.62,77L517.74,79.7L517.99,61.08L518.48,75.17L518.61,73.71L519.6,58.33L520.09,52.12L520.34,45.36L520.46,29.88L520.59,13.39L520.96,31.13L521.2,19.99L521.33,22.42L521.45,27.27L521.95,22.53L522.07,21.01L522.19,22.42L522.32,21.99L522.69,13.19L522.81,12.6L522.94,17.48L523.18,35.68L523.55,23.76L523.68,15.25L524.67,32.77L524.79,31.01L524.91,29.86L525.78,38.84L526.15,56.05L526.4,48.96L526.65,66.11L527.02,55.04L527.88,95.1L528.01,66.6L528.13,68.02L528.25,59.89L528.75,57.74L528.87,65.75L528.99,59.32L529.86,77.76L529.98,75.16L530.48,82.66L530.6,76.38L530.73,68.06L530.85,69.65L531.34,62.1L531.47,61.95L531.59,67.27L532.33,43.73L532.7,49.54L533.08,56.02L533.32,48.42L533.45,54.72L533.94,49.95L534.06,58.57L534.44,57.36L535.18,69.19L535.3,66.91L536.78,94.98L536.91,88.97L537.03,90.49L537.4,83.91L537.53,84.36L537.65,80.64L537.77,77.61L538.39,79.41L538.52,84.25L538.64,92.57L539.13,84.24L539.26,84.64L539.38,85.88L540,81.01\" style=\"vector-effect: none; fill: none; stroke: rgb(99, 110, 250); stroke-opacity: 1; stroke-width: 2px; opacity: 1;\"/></g><g class=\"points\"/><g class=\"text\"/></g></g></g><g class=\"overplot\"/><path class=\"xlines-above crisp\" d=\"M0,0\" style=\"fill: none;\"/><path class=\"ylines-above crisp\" d=\"M0,0\" style=\"fill: none;\"/><g class=\"overlines-above\"/><g class=\"xaxislayer-above\"/><g class=\"yaxislayer-above\"><g class=\"ytick\"><text text-anchor=\"end\" x=\"79\" y=\"4.199999999999999\" transform=\"translate(0,340.2100000000001)\" style=\"font-family: 'Open Sans', verdana, arial, sans-serif; font-size: 12px; fill: rgb(42, 63, 95); fill-opacity: 1; white-space: pre; opacity: 1;\">0</text></g><g class=\"ytick\"><text text-anchor=\"end\" x=\"79\" y=\"4.199999999999999\" style=\"font-family: 'Open Sans', verdana, arial, sans-serif; font-size: 12px; fill: rgb(42, 63, 95); fill-opacity: 1; white-space: pre; opacity: 1;\" transform=\"translate(0,301.55000000000007)\">50</text></g><g class=\"ytick\"><text text-anchor=\"end\" x=\"79\" y=\"4.199999999999999\" style=\"font-family: 'Open Sans', verdana, arial, sans-serif; font-size: 12px; fill: rgb(42, 63, 95); fill-opacity: 1; white-space: pre; opacity: 1;\" transform=\"translate(0,262.8900000000001)\">100</text></g><g class=\"ytick\"><text text-anchor=\"end\" x=\"79\" y=\"4.199999999999999\" style=\"font-family: 'Open Sans', verdana, arial, sans-serif; font-size: 12px; fill: rgb(42, 63, 95); fill-opacity: 1; white-space: pre; opacity: 1;\" transform=\"translate(0,224.23000000000008)\">150</text></g><g class=\"ytick\"><text text-anchor=\"end\" x=\"79\" y=\"4.199999999999999\" style=\"font-family: 'Open Sans', verdana, arial, sans-serif; font-size: 12px; fill: rgb(42, 63, 95); fill-opacity: 1; white-space: pre; opacity: 1;\" transform=\"translate(0,185.57000000000008)\">200</text></g><g class=\"ytick\"><text text-anchor=\"end\" x=\"79\" y=\"4.199999999999999\" style=\"font-family: 'Open Sans', verdana, arial, sans-serif; font-size: 12px; fill: rgb(42, 63, 95); fill-opacity: 1; white-space: pre; opacity: 1;\" transform=\"translate(0,146.9000000000001)\">250</text></g><g class=\"ytick\"><text text-anchor=\"end\" x=\"79\" y=\"4.199999999999999\" style=\"font-family: 'Open Sans', verdana, arial, sans-serif; font-size: 12px; fill: rgb(42, 63, 95); fill-opacity: 1; white-space: pre; opacity: 1;\" transform=\"translate(0,108.24000000000008)\">300</text></g></g><g class=\"overaxes-above\"/></g><g class=\"subplot x2y2\"><g class=\"layer-subplot\"><g class=\"shapelayer\"/><g class=\"imagelayer\"/></g><g class=\"minor-gridlayer\"><g class=\"x2\"/><g class=\"y2\"/></g><g class=\"gridlayer\"><g class=\"x2\"><path class=\"x2grid crisp\" transform=\"translate(102.88,0)\" d=\"M0,568v251.99999999999997\" style=\"stroke: rgb(255, 255, 255); stroke-opacity: 1; stroke-width: 1px;\"/><path class=\"x2grid crisp\" transform=\"translate(193.14,0)\" d=\"M0,568v251.99999999999997\" style=\"stroke: rgb(255, 255, 255); stroke-opacity: 1; stroke-width: 1px;\"/><path class=\"x2grid crisp\" transform=\"translate(283.53999999999996,0)\" d=\"M0,568v251.99999999999997\" style=\"stroke: rgb(255, 255, 255); stroke-opacity: 1; stroke-width: 1px;\"/><path class=\"x2grid crisp\" transform=\"translate(373.8,0)\" d=\"M0,568v251.99999999999997\" style=\"stroke: rgb(255, 255, 255); stroke-opacity: 1; stroke-width: 1px;\"/><path class=\"x2grid crisp\" transform=\"translate(464.2,0)\" d=\"M0,568v251.99999999999997\" style=\"stroke: rgb(255, 255, 255); stroke-opacity: 1; stroke-width: 1px;\"/><path class=\"x2grid crisp\" transform=\"translate(554.46,0)\" d=\"M0,568v251.99999999999997\" style=\"stroke: rgb(255, 255, 255); stroke-opacity: 1; stroke-width: 1px;\"/></g><g class=\"y2\"><path class=\"y2grid crisp\" transform=\"translate(0,765.54)\" d=\"M80,0h540\" style=\"stroke: rgb(255, 255, 255); stroke-opacity: 1; stroke-width: 1px;\"/><path class=\"y2grid crisp\" transform=\"translate(0,723.24)\" d=\"M80,0h540\" style=\"stroke: rgb(255, 255, 255); stroke-opacity: 1; stroke-width: 1px;\"/><path class=\"y2grid crisp\" transform=\"translate(0,680.94)\" d=\"M80,0h540\" style=\"stroke: rgb(255, 255, 255); stroke-opacity: 1; stroke-width: 1px;\"/><path class=\"y2grid crisp\" transform=\"translate(0,638.64)\" d=\"M80,0h540\" style=\"stroke: rgb(255, 255, 255); stroke-opacity: 1; stroke-width: 1px;\"/><path class=\"y2grid crisp\" transform=\"translate(0,596.34)\" d=\"M80,0h540\" style=\"stroke: rgb(255, 255, 255); stroke-opacity: 1; stroke-width: 1px;\"/></g></g><g class=\"zerolinelayer\"><path class=\"y2zl zl crisp\" transform=\"translate(0,807.84)\" d=\"M80,0h540\" style=\"stroke: rgb(255, 255, 255); stroke-opacity: 1; stroke-width: 2px;\"/></g><g class=\"layer-between\"><g class=\"shapelayer\"/><g class=\"imagelayer\"/></g><path class=\"xlines-below\"/><path class=\"ylines-below\"/><g class=\"overlines-below\"/><g class=\"xaxislayer-below\"/><g class=\"yaxislayer-below\"/><g class=\"overaxes-below\"/><g class=\"plot\" transform=\"translate(80,568)\" clip-path=\"url(#clipfe6a47x2y2plot)\"><g class=\"scatterlayer mlayer\"><g class=\"trace scatter traced662ea\" style=\"stroke-miterlimit: 2; opacity: 1;\"><g class=\"fills\"/><g class=\"errorbars\"/><g class=\"lines\"><path class=\"js-line\" d=\"M530.73,20.11L519.6,12.6L508.22,54.33L496.84,112.18L485.59,113.26L474.34,83.67L462.96,106.53L451.59,105.54L440.33,143.8L429.21,87.01L417.83,95.51L406.45,155.2L395.2,167.74L384.07,170.3L372.7,176.71L361.32,180.83L350.07,182.82L338.94,191.51L327.56,191.24L316.19,212.98L304.93,215.58L293.68,214.17L282.3,220.03L248.55,219.6L237.17,221.82L225.79,223.58L214.54,226.71L203.41,226.84L192.04,230.73L180.66,231.28L169.41,227.96L146.9,238.79L135.53,239.27L67.89,239.08L56.51,239.19L0,239.27\" style=\"vector-effect: none; fill: none; stroke: rgb(239, 85, 59); stroke-opacity: 1; stroke-width: 2px; opacity: 1;\"/></g><g class=\"points\"/><g class=\"text\"/></g></g></g><g class=\"overplot\"/><path class=\"xlines-above crisp\" d=\"M0,0\" style=\"fill: none;\"/><path class=\"ylines-above crisp\" d=\"M0,0\" style=\"fill: none;\"/><g class=\"overlines-above\"/><g class=\"xaxislayer-above\"><g class=\"x2tick\"><text text-anchor=\"middle\" x=\"0\" y=\"833\" transform=\"translate(102.88,0)\" style=\"font-family: 'Open Sans', verdana, arial, sans-serif; font-size: 12px; fill: rgb(42, 63, 95); fill-opacity: 1; white-space: pre; opacity: 1;\">2010</text></g><g class=\"x2tick\"><text text-anchor=\"middle\" x=\"0\" y=\"833\" style=\"font-family: 'Open Sans', verdana, arial, sans-serif; font-size: 12px; fill: rgb(42, 63, 95); fill-opacity: 1; white-space: pre; opacity: 1;\" transform=\"translate(193.14,0)\">2012</text></g><g class=\"x2tick\"><text text-anchor=\"middle\" x=\"0\" y=\"833\" style=\"font-family: 'Open Sans', verdana, arial, sans-serif; font-size: 12px; fill: rgb(42, 63, 95); fill-opacity: 1; white-space: pre; opacity: 1;\" transform=\"translate(283.53999999999996,0)\">2014</text></g><g class=\"x2tick\"><text text-anchor=\"middle\" x=\"0\" y=\"833\" style=\"font-family: 'Open Sans', verdana, arial, sans-serif; font-size: 12px; fill: rgb(42, 63, 95); fill-opacity: 1; white-space: pre; opacity: 1;\" transform=\"translate(373.8,0)\">2016</text></g><g class=\"x2tick\"><text text-anchor=\"middle\" x=\"0\" y=\"833\" style=\"font-family: 'Open Sans', verdana, arial, sans-serif; font-size: 12px; fill: rgb(42, 63, 95); fill-opacity: 1; white-space: pre; opacity: 1;\" transform=\"translate(464.2,0)\">2018</text></g><g class=\"x2tick\"><text text-anchor=\"middle\" x=\"0\" y=\"833\" style=\"font-family: 'Open Sans', verdana, arial, sans-serif; font-size: 12px; fill: rgb(42, 63, 95); fill-opacity: 1; white-space: pre; opacity: 1;\" transform=\"translate(554.46,0)\">2020</text></g></g><g class=\"yaxislayer-above\"><g class=\"y2tick\"><text text-anchor=\"end\" x=\"79\" y=\"4.199999999999999\" transform=\"translate(0,807.84)\" style=\"font-family: 'Open Sans', verdana, arial, sans-serif; font-size: 12px; fill: rgb(42, 63, 95); fill-opacity: 1; white-space: pre; opacity: 1;\">0</text></g><g class=\"y2tick\"><text text-anchor=\"end\" x=\"79\" y=\"4.199999999999999\" style=\"font-family: 'Open Sans', verdana, arial, sans-serif; font-size: 12px; fill: rgb(42, 63, 95); fill-opacity: 1; white-space: pre; opacity: 1;\" transform=\"translate(0,765.54)\">2k</text></g><g class=\"y2tick\"><text text-anchor=\"end\" x=\"79\" y=\"4.199999999999999\" style=\"font-family: 'Open Sans', verdana, arial, sans-serif; font-size: 12px; fill: rgb(42, 63, 95); fill-opacity: 1; white-space: pre; opacity: 1;\" transform=\"translate(0,723.24)\">4k</text></g><g class=\"y2tick\"><text text-anchor=\"end\" x=\"79\" y=\"4.199999999999999\" style=\"font-family: 'Open Sans', verdana, arial, sans-serif; font-size: 12px; fill: rgb(42, 63, 95); fill-opacity: 1; white-space: pre; opacity: 1;\" transform=\"translate(0,680.94)\">6k</text></g><g class=\"y2tick\"><text text-anchor=\"end\" x=\"79\" y=\"4.199999999999999\" style=\"font-family: 'Open Sans', verdana, arial, sans-serif; font-size: 12px; fill: rgb(42, 63, 95); fill-opacity: 1; white-space: pre; opacity: 1;\" transform=\"translate(0,638.64)\">8k</text></g><g class=\"y2tick\"><text text-anchor=\"end\" x=\"79\" y=\"4.199999999999999\" style=\"font-family: 'Open Sans', verdana, arial, sans-serif; font-size: 12px; fill: rgb(42, 63, 95); fill-opacity: 1; white-space: pre; opacity: 1;\" transform=\"translate(0,596.34)\">10k</text></g></g><g class=\"overaxes-above\"/></g></g><g class=\"polarlayer\"/><g class=\"smithlayer\"/><g class=\"ternarylayer\"/><g class=\"geolayer\"/><g class=\"funnelarealayer\"/><g class=\"pielayer\"/><g class=\"iciclelayer\"/><g class=\"treemaplayer\"/><g class=\"sunburstlayer\"/><g class=\"glimages\"/><defs id=\"topdefs-fe6a47\"><g class=\"clips\"/><clipPath id=\"rangesliderx-fe6a47\"><rect x=\"0\" y=\"0\" width=\"540\" height=\"108\"/></clipPath></defs><g class=\"layer-above\"><g class=\"imagelayer\"/><g class=\"shapelayer\"/></g><g class=\"infolayer\"><g class=\"g-gtitle\"><text class=\"gtitle\" x=\"35\" y=\"50\" text-anchor=\"start\" dy=\"0em\" style=\"font-family: 'Open Sans', verdana, arial, sans-serif; font-size: 17px; fill: rgb(42, 63, 95); opacity: 1; white-space: pre;\">TESLA</text></g><g class=\"g-x2title\"><text class=\"x2title\" x=\"350\" y=\"860.3\" text-anchor=\"middle\" style=\"font-family: 'Open Sans', verdana, arial, sans-serif; font-size: 14px; fill: rgb(42, 63, 95); opacity: 1; white-space: pre;\">Date</text></g><g class=\"g-ytitle\"><text class=\"ytitle\" transform=\"rotate(-90,36.709375,226.00000000000006)\" x=\"36.709375\" y=\"226.00000000000006\" text-anchor=\"middle\" style=\"font-family: 'Open Sans', verdana, arial, sans-serif; font-size: 14px; fill: rgb(42, 63, 95); opacity: 1; white-space: pre;\">Price ($US)</text></g><g class=\"g-y2title\"><text class=\"y2title\" transform=\"rotate(-90,37.240625,694)\" x=\"37.240625\" y=\"694\" text-anchor=\"middle\" style=\"font-family: 'Open Sans', verdana, arial, sans-serif; font-size: 14px; fill: rgb(42, 63, 95); opacity: 1; white-space: pre;\">Revenue ($US Millions)</text></g><g class=\"annotation\" data-index=\"0\" style=\"opacity: 1;\"><g class=\"annotation-text-g\" transform=\"rotate(0,350,88.50000000000009)\"><g class=\"cursor-pointer\" transform=\"translate(262,77)\"><rect class=\"bg\" x=\"0.5\" y=\"0.5\" width=\"175\" height=\"22\" style=\"stroke-width: 1px; stroke: rgb(0, 0, 0); stroke-opacity: 0; fill: rgb(0, 0, 0); fill-opacity: 0;\"/><text class=\"annotation-text\" text-anchor=\"middle\" x=\"87.671875\" y=\"18\" style=\"font-family: 'Open Sans', verdana, arial, sans-serif; font-size: 16px; fill: rgb(42, 63, 95); fill-opacity: 1; white-space: pre;\">Historical Share Price</text></g></g></g><g class=\"annotation\" data-index=\"1\" style=\"opacity: 1;\"><g class=\"annotation-text-g\" transform=\"rotate(0,350,556.5)\"><g class=\"cursor-pointer\" transform=\"translate(274,545)\"><rect class=\"bg\" x=\"0.5\" y=\"0.5\" width=\"152\" height=\"22\" style=\"stroke-width: 1px; stroke: rgb(0, 0, 0); stroke-opacity: 0; fill: rgb(0, 0, 0); fill-opacity: 0;\"/><text class=\"annotation-text\" text-anchor=\"middle\" x=\"76.4375\" y=\"18\" style=\"font-family: 'Open Sans', verdana, arial, sans-serif; font-size: 16px; fill: rgb(42, 63, 95); fill-opacity: 1; white-space: pre;\">Historical Revenue</text></g></g></g><g class=\"rangeslider-container\" pointer-events=\"all\" transform=\"translate(80,367)\"><rect class=\"rangeslider-bg\" x=\"0\" y=\"0\" shape-rendering=\"crispEdges\" width=\"540\" height=\"108\" transform=\"\" stroke-width=\"0\" style=\"stroke: rgb(68, 68, 68); stroke-opacity: 1; fill: rgb(229, 236, 246); fill-opacity: 1;\"/><g class=\"rangeslider-rangeplot xy\" clip-path=\"url(#rangesliderx-fe6a47)\"><g class=\"layer-subplot\"><g class=\"shapelayer\"/><g class=\"imagelayer\"/></g><g class=\"minor-gridlayer\"><g class=\"x\"/><g class=\"y\"/></g><g class=\"gridlayer\"><g class=\"x\"/><g class=\"y\"/></g><g class=\"zerolinelayer\"/><g class=\"layer-between\"><g class=\"shapelayer\"/><g class=\"imagelayer\"/></g><path class=\"xlines-below\"/><path class=\"ylines-below\"/><g class=\"overlines-below\"/><g class=\"xaxislayer-below\"/><g class=\"yaxislayer-below\"/><g class=\"overaxes-below\"/><g class=\"plot\"><g class=\"scatterlayer mlayer rangeplot\"><g class=\"trace scatter tracec44c6d\" style=\"stroke-miterlimit: 2; opacity: 1;\"><g class=\"fills\"/><g class=\"errorbars\"/><g class=\"lines\"><path class=\"js-line\" d=\"M45.01,102.42L50.08,102.52L50.2,102.53L56.14,102.5L56.26,102.48L62.69,102.26L63.06,102.21L66.9,102.28L67.39,102.38L71.84,102.42L71.97,102.42L86.81,102.31L86.93,102.28L93.85,102.33L94.22,102.31L99.42,102.44L99.54,102.42L110.3,102.26L110.67,102.28L115.86,102.36L115.99,102.34L124.03,102.12L124.15,102.13L152.71,102.25L153.08,102.22L169.04,102.11L169.53,101.98L172.13,101.84L172.25,101.82L175.96,100.9L176.08,100.8L177.44,100.85L177.57,100.84L179.3,100.64L179.42,100.73L184.74,99.9L185.11,99.75L186.22,99.87L186.35,99.86L192.28,98.95L192.41,99.12L193.4,99L193.77,98.98L195.13,99.2L195.5,99.35L199.83,100.21L199.95,99.75L200.94,99.86L201.06,99.69L205.51,99.19L206.01,99.05L207.74,99L207.86,99.1L211.45,97.36L211.57,97.51L214.66,98.16L214.79,97.86L216.4,98.67L216.52,98.55L219.12,98.5L219.24,99L225.92,97.65L226.04,97.88L229.38,97.98L229.5,97.89L230.25,97.68L230.37,97.45L233.21,96.99L233.71,96.67L234.94,96.78L235.31,97.34L236.18,97.43L236.3,97.42L240.51,98.05L240.63,97.59L241.87,97.64L242.24,97.6L243.23,97.26L243.35,97.48L246.81,98.4L246.94,98.13L249.54,98.3L249.66,98.38L252.26,98.45L252.63,98.29L253.62,98.17L253.74,98.25L254.6,98.43L254.73,98.27L255.59,98.37L255.72,98.46L258.19,98.63L258.31,98.57L264.37,97.72L264.74,97.66L265.98,97.52L266.1,97.48L271.05,97L271.17,96.76L275.38,96.98L275.5,97.51L276.49,97.58L276.86,97.32L276.99,97.19L277.36,97.85L277.73,98.11L279.83,97.46L279.95,97.42L282.3,97.46L282.43,97.65L282.92,97.51L283.17,97.82L283.29,97.94L284.16,98.06L284.28,97.93L284.65,97.91L285.52,98.19L285.64,98.3L291.08,97.93L291.21,98.15L294.67,98.29L295.04,98.36L297.02,98.79L297.14,98.76L298.01,99.08L298.13,99.36L299,99.61L299.49,99.52L300.6,98.81L300.73,98.74L303.2,97.95L303.32,97.81L306.79,97.33L307.16,97.34L308.02,97.39L308.15,97.34L310.74,98.43L310.87,98.28L311.98,98.02L312.48,98.02L314.58,98.19L314.95,98.1L315.81,98.56L315.94,98.49L316.06,98.31L317.92,98.05L318.04,98.08L320.64,97.87L321.01,97.95L337.45,98.47L337.58,98.34L341.16,97.68L341.29,97.56L345.49,96.91L345.61,97.29L347.84,97.51L347.96,97.25L353.16,96.02L353.28,96.1L355.75,95.95L355.88,96.19L356.99,95.77L357.49,95.55L358.6,94.77L358.72,95.05L359.09,95.02L359.34,94.54L359.96,94.78L360.08,94.73L361.07,94.75L361.2,94.98L361.94,95.72L362.06,96.13L363.79,95.66L363.92,95.69L364.78,95.55L365.15,95.8L365.4,95.75L365.52,95.28L365.65,95.06L369.97,95.36L370.35,94.91L371.58,94.85L371.71,95.19L373.81,95.37L373.93,95.09L375.91,95.74L376.03,95.86L381.23,95.99L381.6,95.68L382.46,95.46L382.59,95.63L386.42,95.22L386.79,95.18L388.65,95.57L388.77,95.33L389.02,96.09L389.51,95.8L389.64,95.83L390.75,95.17L391.12,95.05L392.48,95.72L392.85,95.32L394.21,96.29L394.58,96.23L395.45,97.37L395.57,97.04L396.44,96.22L396.56,96.3L397.3,96.59L397.43,96.47L397.55,96.32L398.29,96.75L398.42,96.64L398.54,96.45L403.36,96.52L403.49,95.89L404.35,95.33L404.47,95.05L405.22,94.95L405.34,95.27L405.46,95.58L406.7,95.55L406.82,96.08L410.41,96.3L410.53,95.23L411.03,95.39L411.15,94.56L412.76,96.13L412.88,95.84L414.86,96.74L414.99,97.13L416.22,96.44L416.35,96.65L417.33,96.11L417.46,96.16L417.58,97.1L417.95,96.08L418.2,96.44L418.32,96.72L419.19,97.38L419.31,97.23L420.8,96.58L420.92,95.99L421.91,95.3L422.28,95.41L424.01,95.14L424.14,95.27L424.51,95.75L425,95.35L425.12,95.26L425.87,95L426.11,94.93L426.86,94.85L426.98,94.62L428.34,96.42L428.59,95.74L428.83,95.57L429.58,96.31L429.7,95.93L431.31,95.28L431.43,96.27L433.16,96.05L433.53,96.04L434.4,96.04L434.52,96.06L436.25,96.37L436.38,96L436.5,95.88L436.62,96.44L437,96.64L437.37,96.84L437.49,96.67L437.86,96.52L438.85,97.04L438.97,96.9L439.1,96.9L439.59,97.2L439.84,96.88L439.96,96.79L441.57,96.85L441.69,97.02L443.43,97.48L443.55,97.75L445.28,97.66L445.65,97.93L446.02,97.9L446.15,98.29L446.52,98.41L447.88,98.86L448.25,99L449.24,98.15L449.36,98.33L450.47,98.05L450.84,98.01L451.83,97.99L451.96,97.76L453.81,97.35L453.94,97.25L454.55,97.1L454.68,97.89L457.03,97.76L457.15,98.1L458.26,98.28L458.64,98.2L464.94,97.21L465.07,97.16L465.81,97.32L465.93,96.33L466.43,95.71L466.67,95.99L466.8,95.99L469.89,95.52L470.01,95.68L472.11,95.03L472.48,94.52L473.84,93.44L474.22,93.79L477.18,90.31L477.31,90.47L477.68,90.62L478.17,88.58L478.54,85.72L478.67,83.35L478.79,86.72L479.04,86.42L479.41,85.91L479.66,86L479.78,85.19L480.52,82.68L480.77,83.04L481.14,84.53L481.63,88.19L482.01,86.52L482.13,86.48L482.25,86.39L482.38,86.94L482.5,87.41L483.98,94.97L484.23,93.5L484.6,93.35L484.85,91.04L485.47,91.86L485.59,91.37L485.84,92.91L486.33,91.54L486.46,90.9L487.69,86.29L488.07,86.46L488.19,87.78L489.18,85.26L489.3,85.68L489.43,87.46L490.04,85.66L490.17,85.72L490.29,84.85L490.91,85.47L491.03,85.2L491.77,84.93L491.9,84.67L492.76,85.15L492.89,84.5L494.37,80.3L494.5,81.46L494.62,82.29L494.99,81.06L495.11,81.25L495.24,81.04L495.98,80.82L496.1,81.72L497.09,76.25L497.59,72.65L497.83,72.77L497.96,72.15L498.08,68.82L498.95,69.79L499.32,66.65L499.81,71.64L500.31,70.33L500.43,69.83L500.68,71.34L501.05,70.14L501.42,70.04L501.54,70.85L502.04,72.59L502.16,68.6L504.51,47.9L504.63,50.47L505.5,66.47L505.75,61.93L505.87,61.78L507.11,53.31L507.23,56.09L507.36,60.93L507.97,56.42L508.1,56.66L508.34,53.44L508.47,57.1L508.84,55.93L508.96,57.22L509.33,55.01L509.7,54.09L509.95,51.99L510.08,53.36L510.2,54.38L511.44,56.52L511.56,56.04L511.93,60.08L512.3,58.71L512.43,56.12L512.55,56.45L512.67,54.56L513.66,57.82L514.03,57.87L515.39,38.24L515.76,40.25L516.75,31.16L516.88,36.18L517.49,32.27L517.62,33L517.74,34.16L517.99,26.18L518.48,32.21L518.61,31.59L519.6,25L520.09,22.34L520.34,19.44L520.46,12.81L520.59,5.74L520.96,13.34L521.2,8.57L521.33,9.61L521.45,11.69L521.95,9.66L522.07,9.01L522.19,9.61L522.32,9.43L522.69,5.65L522.81,5.4L522.94,7.49L523.18,15.29L523.55,10.18L523.68,6.54L524.67,14.05L524.79,13.29L524.91,12.8L525.78,16.64L526.15,24.02L526.4,20.98L526.65,28.33L527.02,23.59L527.88,40.76L528.01,28.54L528.13,29.15L528.25,25.67L528.75,24.75L528.87,28.18L528.99,25.42L529.86,33.33L529.98,32.21L530.48,35.42L530.6,32.74L530.73,29.17L530.85,29.85L531.34,26.61L531.59,28.83L531.84,28.16L532.21,25.41L532.33,18.74L532.7,21.23L533.08,24.01L533.32,20.75L533.45,23.45L533.94,21.41L534.06,25.1L534.44,24.58L535.18,29.65L535.3,28.68L536.78,40.71L536.91,38.13L537.03,38.78L537.4,35.96L537.53,36.15L537.65,34.56L537.77,33.26L538.39,34.03L538.52,36.11L538.64,39.67L539.26,36.27L539.38,36.81L540,34.72\" style=\"vector-effect: none; fill: none; stroke: rgb(99, 110, 250); stroke-opacity: 1; stroke-width: 2px; opacity: 1;\"/></g><g class=\"points\"/><g class=\"text\"/></g></g></g><g class=\"overplot\"/><path class=\"xlines-above crisp\" style=\"fill: none;\"/><path class=\"ylines-above crisp\" style=\"fill: none;\"/><g class=\"overlines-above\"/><g class=\"xaxislayer-above\"/><g class=\"yaxislayer-above\"/><g class=\"overaxes-above\"/></g><rect class=\"rangeslider-mask-min\" x=\"0\" y=\"0\" shape-rendering=\"crispEdges\" height=\"108\" width=\"0\" style=\"fill: rgb(0, 0, 0); fill-opacity: 0.4;\"/><rect class=\"rangeslider-mask-max\" y=\"0\" shape-rendering=\"crispEdges\" height=\"108\" x=\"540\" width=\"0\" style=\"fill: rgb(0, 0, 0); fill-opacity: 0.4;\"/><g class=\"rangeslider-grabber-min\" transform=\"translate(-2.5,0.5)\"><rect class=\"rangeslider-handle-min\" x=\"0\" width=\"4\" rx=\"1\" fill=\"#fff\" stroke=\"#444\" stroke-width=\"1\" shape-rendering=\"crispEdges\" y=\"27\" height=\"54\"/><rect class=\"rangeslider-grabarea-min\" width=\"10\" x=\"0\" y=\"0\" fill=\"transparent\" height=\"108\"/></g><g class=\"rangeslider-grabber-max\" transform=\"translate(538.5,0.5)\"><rect class=\"rangeslider-handle-max\" x=\"0\" width=\"4\" rx=\"1\" fill=\"#fff\" stroke=\"#444\" stroke-width=\"1\" shape-rendering=\"crispEdges\" y=\"27\" height=\"54\"/><rect class=\"rangeslider-grabarea-max\" width=\"10\" x=\"0\" y=\"0\" fill=\"transparent\" height=\"108\"/></g></g><g class=\"g-xtitle\"><text class=\"xtitle\" x=\"350\" y=\"506\" text-anchor=\"middle\" style=\"font-family: 'Open Sans', verdana, arial, sans-serif; font-size: 14px; fill: rgb(42, 63, 95); opacity: 1; white-space: pre;\">Date</text></g></g></svg>"
      ]
     },
     "metadata": {},
     "output_type": "display_data"
    }
   ],
   "source": [
    "# Call the function to plot Tesla data\n",
    "make_graph(tesla_data, tesla_revenue, 'TESLA')"
   ]
  },
  {
   "cell_type": "code",
   "execution_count": 28,
   "id": "2e027ec6-74ef-44ce-96b7-6b4b2eff7725",
   "metadata": {},
   "outputs": [
    {
     "name": "stderr",
     "output_type": "stream",
     "text": [
      "C:\\Users\\Moham\\AppData\\Local\\Temp\\ipykernel_14156\\1202173309.py:13: UserWarning:\n",
      "\n",
      "The argument 'infer_datetime_format' is deprecated and will be removed in a future version. A strict version of it is now the default, see https://pandas.pydata.org/pdeps/0004-consistent-to-datetime-parsing.html. You can safely remove this argument.\n",
      "\n",
      "C:\\Users\\Moham\\AppData\\Local\\Temp\\ipykernel_14156\\1202173309.py:18: UserWarning:\n",
      "\n",
      "The argument 'infer_datetime_format' is deprecated and will be removed in a future version. A strict version of it is now the default, see https://pandas.pydata.org/pdeps/0004-consistent-to-datetime-parsing.html. You can safely remove this argument.\n",
      "\n"
     ]
    },
    {
     "data": {
      "image/svg+xml": [
       "<svg class=\"main-svg\" xmlns=\"http://www.w3.org/2000/svg\" xmlns:xlink=\"http://www.w3.org/1999/xlink\" width=\"700\" height=\"900\" style=\"\" viewBox=\"0 0 700 900\"><rect x=\"0\" y=\"0\" width=\"700\" height=\"900\" style=\"fill: rgb(255, 255, 255); fill-opacity: 1;\"/><defs id=\"defs-a7e947\"><g class=\"clips\"><clipPath id=\"clipa7e947xyplot\" class=\"plotclip\"><rect width=\"540\" height=\"251.99999999999997\"/></clipPath><clipPath id=\"clipa7e947x2y2plot\" class=\"plotclip\"><rect width=\"540\" height=\"251.99999999999997\"/></clipPath><clipPath class=\"axesclip\" id=\"clipa7e947x\"><rect x=\"80\" y=\"0\" width=\"540\" height=\"900\"/></clipPath><clipPath class=\"axesclip\" id=\"clipa7e947y\"><rect x=\"0\" y=\"100.00000000000009\" width=\"700\" height=\"251.99999999999997\"/></clipPath><clipPath class=\"axesclip\" id=\"clipa7e947xy\"><rect x=\"80\" y=\"100.00000000000009\" width=\"540\" height=\"251.99999999999997\"/></clipPath><clipPath class=\"axesclip\" id=\"clipa7e947y2\"><rect x=\"0\" y=\"568\" width=\"700\" height=\"251.99999999999997\"/></clipPath><clipPath class=\"axesclip\" id=\"clipa7e947xy2\"><rect x=\"80\" y=\"568\" width=\"540\" height=\"251.99999999999997\"/></clipPath><clipPath class=\"axesclip\" id=\"clipa7e947x2\"><rect x=\"80\" y=\"0\" width=\"540\" height=\"900\"/></clipPath><clipPath class=\"axesclip\" id=\"clipa7e947x2y\"><rect x=\"80\" y=\"100.00000000000009\" width=\"540\" height=\"251.99999999999997\"/></clipPath><clipPath class=\"axesclip\" id=\"clipa7e947x2y2\"><rect x=\"80\" y=\"568\" width=\"540\" height=\"251.99999999999997\"/></clipPath></g><g class=\"gradients\"/><g class=\"patterns\"/></defs><g class=\"bglayer\"><rect class=\"bg\" x=\"80\" y=\"100.00000000000009\" width=\"540\" height=\"251.99999999999997\" style=\"fill: rgb(229, 236, 246); fill-opacity: 1; stroke-width: 0;\"/><rect class=\"bg\" x=\"80\" y=\"568\" width=\"540\" height=\"251.99999999999997\" style=\"fill: rgb(229, 236, 246); fill-opacity: 1; stroke-width: 0;\"/></g><g class=\"layer-below\"><g class=\"imagelayer\"/><g class=\"shapelayer\"/></g><g class=\"cartesianlayer\"><g class=\"subplot xy\"><g class=\"layer-subplot\"><g class=\"shapelayer\"/><g class=\"imagelayer\"/></g><g class=\"minor-gridlayer\"><g class=\"x\"/><g class=\"y\"/></g><g class=\"gridlayer\"><g class=\"x\"><path class=\"xgrid crisp\" transform=\"translate(160.53,0)\" d=\"M0,100.00000000000009v251.99999999999997\" style=\"stroke: rgb(255, 255, 255); stroke-opacity: 1; stroke-width: 1px;\"/><path class=\"xgrid crisp\" transform=\"translate(300.18,0)\" d=\"M0,100.00000000000009v251.99999999999997\" style=\"stroke: rgb(255, 255, 255); stroke-opacity: 1; stroke-width: 1px;\"/><path class=\"xgrid crisp\" transform=\"translate(439.82,0)\" d=\"M0,100.00000000000009v251.99999999999997\" style=\"stroke: rgb(255, 255, 255); stroke-opacity: 1; stroke-width: 1px;\"/><path class=\"xgrid crisp\" transform=\"translate(579.47,0)\" d=\"M0,100.00000000000009v251.99999999999997\" style=\"stroke: rgb(255, 255, 255); stroke-opacity: 1; stroke-width: 1px;\"/></g><g class=\"y\"><path class=\"ygrid crisp\" transform=\"translate(0,288.4800000000001)\" d=\"M80,0h540\" style=\"stroke: rgb(255, 255, 255); stroke-opacity: 1; stroke-width: 1px;\"/><path class=\"ygrid crisp\" transform=\"translate(0,235.88000000000008)\" d=\"M80,0h540\" style=\"stroke: rgb(255, 255, 255); stroke-opacity: 1; stroke-width: 1px;\"/><path class=\"ygrid crisp\" transform=\"translate(0,183.29000000000008)\" d=\"M80,0h540\" style=\"stroke: rgb(255, 255, 255); stroke-opacity: 1; stroke-width: 1px;\"/><path class=\"ygrid crisp\" transform=\"translate(0,130.69000000000008)\" d=\"M80,0h540\" style=\"stroke: rgb(255, 255, 255); stroke-opacity: 1; stroke-width: 1px;\"/></g></g><g class=\"zerolinelayer\"><path class=\"yzl zl crisp\" transform=\"translate(0,341.0800000000001)\" d=\"M80,0h540\" style=\"stroke: rgb(255, 255, 255); stroke-opacity: 1; stroke-width: 2px;\"/></g><g class=\"layer-between\"><g class=\"shapelayer\"/><g class=\"imagelayer\"/></g><path class=\"xlines-below\"/><path class=\"ylines-below\"/><g class=\"overlines-below\"/><g class=\"xaxislayer-below\"/><g class=\"yaxislayer-below\"/><g class=\"overaxes-below\"/><g class=\"plot\" transform=\"translate(80,100.00000000000009)\" clip-path=\"url(#clipa7e947xyplot)\"><g class=\"scatterlayer mlayer\"><g class=\"trace scatter trace1127be\" style=\"stroke-miterlimit: 2; opacity: 1;\"><g class=\"fills\"/><g class=\"errorbars\"/><g class=\"lines\"><path class=\"js-line\" d=\"M0,236.63L1.61,236.8L1.68,236.56L1.76,236.45L2.6,236.94L2.68,237.09L3.21,236.52L3.59,236.86L3.67,236.95L6.81,236.32L6.88,236.48L7.11,236.38L7.42,236.54L7.49,236.38L7.57,236.12L8.18,235.73L8.41,235.93L8.49,235.89L11.39,237.16L11.62,237.38L12.24,237.54L12.47,237.2L12.7,237.03L13.46,237.78L13.54,237.7L13.77,237.48L15.07,236.34L15.14,236.48L15.45,236.65L15.52,236.96L16.06,236.48L16.21,236.74L16.44,236.61L18.89,236.58L19.12,236.47L19.96,237.18L20.19,237.08L20.5,237.31L21.26,236.6L21.34,236.85L22.64,236.83L22.87,237.06L24.47,238.93L24.55,238.91L28.45,238.82L28.53,238.73L30.13,238.4L30.36,238.39L37.09,238.26L37.32,238.16L38.01,238.16L38.09,238.22L38.16,238.3L40.69,237.95L40.76,238.07L42.98,237.4L43.29,237.25L44.28,237.27L44.36,237.35L46.73,237.04L46.96,237.08L48.1,237.57L48.18,237.38L48.26,237.34L52.62,237.73L52.85,237.53L53.07,236.97L53.61,237.23L53.69,237.21L59.58,237.02L59.8,236.99L65.23,237.67L65.31,237.59L66.46,237.8L66.53,237.79L70.05,237.53L70.13,237.37L73.19,237.11L73.26,237.14L74.34,236.83L74.41,236.91L74.49,237L75.48,236.65L75.56,236.68L76.63,236.35L76.71,235.88L78.69,236.34L78.77,236.34L81.22,236.79L81.29,236.84L83.89,236.82L83.97,236.72L86.8,236.09L87.11,235.9L87.95,236.26L88.18,236.32L88.41,236.45L88.71,235.83L88.79,235.75L89.55,235.63L89.78,235.4L90.85,235.4L90.93,235.28L91.7,234.47L92,234.63L93.15,233.66L93.22,233.78L94.68,233.76L94.75,233.64L95.75,233.34L95.82,233.27L97.28,233.95L97.35,233.8L97.97,234.56L98.04,233.92L98.12,233.78L99.57,233.06L99.65,233.11L100.57,233.26L100.64,233.75L101.18,233.81L101.33,234.11L101.56,234.23L102.4,234.23L102.63,234.1L103.24,233.18L103.47,233.45L103.7,233.23L104.47,232.94L104.54,233.13L104.77,233.09L106.07,233.64L106.15,233.29L108.6,233.93L108.67,233.68L109.21,232.41L109.36,232.59L109.67,232.61L111.2,231.54L111.5,232.12L111.73,232.18L112.8,232.17L112.88,232.22L113.34,232.05L113.49,232.5L113.57,232.61L114.41,231.92L114.49,231.12L116.86,230.68L117.09,230.73L118.23,230.55L118.31,230.81L119.23,231.49L119.3,231.51L119.53,231.43L119.84,231.74L120.07,231.47L120.3,232.01L120.91,232.33L121.06,231.95L121.14,232.35L121.98,232.94L122.06,232.86L122.13,232.41L122.21,231.78L122.74,232.65L122.97,232.89L123.59,232.35L123.66,232.02L123.82,232.7L124.35,231.74L124.58,231.87L124.66,232.12L124.81,231.25L125.12,231.19L125.19,231.26L125.27,231.39L125.42,230.8L125.73,230.83L125.8,230.68L126.49,231.81L126.72,231.66L126.8,231.54L128.94,230.4L129.02,230.63L129.4,230.87L129.7,230.54L129.93,230.44L131,229.55L131.08,229.81L131.23,229.67L131.69,229.99L131.77,229.95L131.85,229.23L133.15,229.76L133.22,229.35L133.3,228.83L134.37,228.36L134.45,228.42L137.05,228.54L137.12,228.24L138.12,228.74L138.19,229.2L138.27,229.51L138.8,229.15L139.03,229.35L140.26,228.84L140.33,229.06L140.41,229.17L141.33,229.61L141.4,229.18L141.48,229.08L142.78,228.7L142.86,227.29L143.55,226.33L143.85,226.43L144.01,225.88L144.54,226.24L144.62,226.46L144.92,225.61L145.23,226.2L145.46,226.4L146.15,226.25L146.22,226.51L146.3,226.63L146.61,225.91L146.68,225.48L147.14,224.4L147.37,225.24L147.68,225.13L148.13,224.14L148.44,224.58L148.67,224.74L148.75,224.98L148.98,223.72L149.21,223.29L150.05,223.77L150.28,223.28L150.81,221.93L151.35,222.46L151.42,222.66L151.88,222.89L152.04,222.48L152.11,222.9L152.19,223.2L152.65,222.7L152.72,223.57L153.11,221.58L153.18,222.95L153.26,223.43L153.72,223.82L154.18,221.86L154.25,220.07L154.64,220.53L154.86,218.88L155.17,218.45L155.4,219.74L155.86,219.03L155.94,218.12L156.16,218.33L156.24,217.97L156.32,217.44L156.85,215.06L157.31,215.58L157.39,216.02L157.46,216.9L157.92,214.98L158.08,215.67L158.31,215.4L158.54,215.23L158.61,215.96L158.84,215.95L158.92,214.5L159.68,216.06L159.91,215.86L159.99,215.1L160.22,217.72L160.45,218.06L160.68,216.32L161.06,218.5L161.14,219.25L162.28,214.67L162.36,214.17L162.82,215.6L163.12,215.34L163.2,214.09L163.66,213.06L163.97,213.5L164.19,213.59L165.57,219.25L165.88,218.74L166.49,219.35L166.64,217.83L166.87,218.06L167.64,220.82L167.71,220L168.02,220.34L168.63,220.09L168.78,222.33L169.01,222.16L169.09,221.78L169.32,222.19L169.85,219.37L170.08,220.27L170.85,217.18L170.92,218.11L171.15,218.19L171.46,216.1L171.92,216.65L172,216.94L172.45,215.83L172.76,216.48L172.84,216.8L173.52,216.12L173.6,217.18L174.06,218.48L174.14,218.4L174.37,217.13L174.6,216.53L174.67,217.23L174.9,217.97L175.13,219.46L175.74,219.12L175.97,219.32L176.66,222.26L176.81,221.38L177.04,219.86L178.34,223.91L178.65,223.66L178.88,223.85L179.49,221.05L179.72,222.02L179.87,221.5L180.03,222.69L180.25,223.12L180.79,223.63L181.33,220.82L181.4,221.09L181.48,221.51L182.4,221.93L182.47,222L183.01,220.99L183.24,221.77L183.47,221.48L185.15,225.94L185.23,225.13L185.91,228.2L186.14,226.24L186.98,229.69L187.21,229.92L187.44,228.05L187.9,229.89L187.98,230.54L188.06,229.97L188.44,231.32L188.59,230.77L188.82,231.01L189.05,233.33L189.36,232.13L189.43,231.93L190.04,232.74L190.43,230.01L190.5,230.8L190.66,230.97L191.11,229.72L191.27,230.19L191.5,230.84L191.65,230.76L192.19,231.49L192.34,230.81L192.57,230.53L192.72,231.07L192.8,229.76L192.87,229.51L193.26,230.71L193.41,230.15L193.71,230.88L194.33,228.62L194.48,230.11L194.71,229.81L195.01,228.68L195.47,229.13L195.55,229.46L195.93,230.07L196.31,229.47L196.39,228.97L196.47,228.55L196.93,229.58L197,228.99L197.08,230.69L197.16,231.17L197.62,229.84L197.69,229.72L197.92,230.27L198.23,230.08L198.46,229.3L198.69,229.48L200.06,226.79L200.14,227.14L200.22,226.96L200.37,228.32L200.6,228.51L200.9,227.22L201.36,227.73L201.44,228.09L201.74,228.2L201.82,228.9L202.36,229.72L202.51,229.36L202.74,229.45L202.89,229.36L203.43,231.34L203.5,230.66L203.58,230.04L203.81,229.66L204.12,230.5L204.34,230.31L204.42,230.01L204.88,230.6L204.96,230.9L207.02,231.77L207.1,231.5L207.17,231.5L207.86,230.39L208.09,230.66L208.17,230.99L208.32,231.57L208.7,230.27L208.78,230.39L208.86,230.23L209.16,230.38L209.47,229.38L209.7,229.97L210.31,231.15L210.54,230.69L210.77,230.54L210.85,230.76L211.38,230.04L211.46,229.99L211.92,229.86L212.07,229.66L212.15,229.22L213.45,229.56L213.52,229.3L213.6,229.46L213.68,228.96L214.06,228.98L214.13,228.61L215.74,230.57L215.82,230.37L216.12,229.79L216.43,230.59L216.66,230.28L216.73,230.47L216.96,229.8L217.27,229.89L217.35,229.75L217.8,230.53L217.88,231.4L218.42,231.86L218.57,231.46L218.8,231.22L220.56,230.44L220.63,232.02L224.31,232.73L224.38,233.33L224.76,233.34L224.99,233.08L225.22,232.9L225.3,233.09L225.45,232.51L225.83,232.49L225.91,232.29L226.37,231.25L226.6,231.34L226.83,231.44L228.21,230.1L228.44,229.88L229.74,230.82L229.81,231.08L230.19,230.84L230.35,231.41L230.58,231.33L230.81,231.95L231.26,231.49L231.34,230.91L232.34,231.79L232.49,231.49L232.72,231.39L233.48,232.95L233.56,232.89L233.79,232.78L234.02,232.64L234.4,232.93L234.55,232.74L234.63,232.66L237,231.8L237.08,231.99L237.15,232.29L238.68,233.14L238.84,232.89L238.91,232.66L239.98,232.51L240.21,232.42L242.05,232.75L242.12,232.97L243.58,232.43L243.65,232.25L244.65,231.78L244.8,232.17L245.03,232.06L246.25,231.64L246.33,231.5L246.41,231.23L246.94,231.49L247.17,231.67L248.24,230.94L248.32,231.12L248.85,232.14L249.08,232.06L249.39,232.06L250.38,231.75L250.46,231.98L251.07,232.36L251.23,232.1L251.45,232.28L252.3,232.29L252.53,232.25L253.6,232.31L253.67,231.99L255.74,230.57L255.81,230.54L256.5,229.33L256.81,229.35L258.11,229.6L258.18,229.25L259.03,228.85L259.1,228.8L259.56,228.69L259.71,229.01L259.79,229.25L261.09,229.22L261.17,228.9L261.63,229.66L261.93,229.16L262.24,228.95L262.7,229.59L262.77,230.1L263.46,230.76L263.54,230.69L263.77,230.62L264.61,231.28L264.84,231.98L265.68,231.53L265.91,231.51L266.6,230.49L266.67,230.88L266.75,231.27L267.82,230.06L268.2,230.7L268.28,231.07L269.81,229.73L269.96,229.94L270.19,230.35L271.03,229.48L271.26,229.76L271.49,229.65L272.03,230.19L272.1,229.94L272.33,230.17L273.17,231.56L273.4,231.18L274.47,230.14L274.55,230.42L274.63,230.68L275.32,230.49L275.62,230.49L276.31,229.9L276.39,230.07L276.62,230.46L277.84,230.01L277.92,230.15L278.76,230.72L278.83,230.58L278.91,230.24L279.44,230.98L279.6,230.75L279.9,230.7L280.52,230.93L280.59,230.46L280.67,230.44L282.12,230.09L282.2,230.76L282.58,230.49L282.73,231.01L282.81,231.35L283.57,231.34L283.65,231.54L285.41,231.06L285.49,231.35L285.72,231.68L286.4,231.79L286.48,232.83L287.4,232.23L287.47,232.25L288.39,232.87L288.47,232.74L289.46,233.36L289.54,233.23L290.23,232.87L290.3,232.94L290.53,233.21L292.45,233.94L292.68,233.89L293.52,232.74L293.75,232.33L294.36,232.82L294.59,232.4L294.89,231.79L296.12,230.73L296.19,230.93L297.11,231.39L297.19,230.9L297.57,230.16L297.8,230.72L298.03,230.71L299.71,230.19L299.79,230.43L299.86,230.83L299.94,231.02L300.32,230.39L300.4,229.93L301.24,228.76L301.32,228.82L301.39,228.93L301.93,229.15L302.08,228.54L302.31,228.47L302.92,228.35L303,228.42L303.08,229.08L303.69,229.81L303.92,229.55L304.07,229.29L304.61,230.69L304.76,230.4L304.99,230.51L306.36,229.74L306.59,229.48L306.67,228.76L306.75,229.5L307.36,229.25L307.44,229.42L308.51,229.91L308.74,230.15L309.42,229.17L309.58,229.26L309.81,229.13L310.34,229.29L310.49,228.79L310.57,228.09L311.72,226.21L311.95,226.5L312.79,225L313.02,225.02L314.39,222.61L314.62,223.08L315.24,226.35L315.47,225.55L315.69,224.97L316.54,222.81L316.77,223.05L316.92,223.03L316.99,221.91L317.3,222.39L317.53,221.94L317.61,221.4L319.44,220.93L319.52,221.21L320.28,217.48L320.74,218.37L320.82,218.15L321.05,217.91L321.28,218.74L321.35,218.8L321.74,218.78L321.81,216.77L322.12,216.55L322.81,217.7L322.88,216.97L323.42,217.79L323.5,216.38L323.72,216.53L323.8,216.3L324.03,217.8L324.26,217.62L324.57,217.7L324.87,216.96L324.95,217.38L325.02,217.62L325.41,217.85L325.87,216.69L325.94,216.92L327.01,214.97L327.24,215.15L327.47,215.04L327.7,215.73L328.16,213.96L328.24,214.03L328.31,214.46L329.92,219.73L330.15,219.49L330.3,219.67L330.45,218.68L330.68,218.29L331.3,216.94L331.45,217.23L331.53,217.85L331.98,217.56L332.06,217.76L332.29,218.26L332.9,223.88L333.13,223.25L333.44,222.98L333.51,222.49L333.97,224.01L334.05,224.47L334.43,225.06L334.74,224.27L334.97,223.83L335.12,223.79L335.81,224.24L336.04,224.01L336.73,222.73L336.8,222.75L336.88,222.84L337.34,223.35L337.41,222.46L337.64,222.09L337.8,223.11L337.95,223.01L338.18,222.87L338.33,222.5L338.41,223.25L338.48,221.67L338.87,220.36L338.94,219.87L339.56,221.72L339.78,221.41L339.86,221.28L340.4,220.89L340.63,222.27L340.86,221.81L341.54,223.96L341.93,223.49L342,223L342.16,223.94L342.69,223.46L342.77,222.72L343.76,223.4L343.84,223.11L344.3,223.59L344.37,223.25L344.6,222.9L345.37,221.53L345.44,221.63L346.97,221.2L347.05,220.44L347.36,219.83L347.43,219.53L347.81,218.87L347.97,220.29L348.04,220.85L348.66,221.47L348.89,221.01L349.11,220.92L349.19,221.98L349.65,221.57L349.73,220.4L350.26,220.59L350.57,219.83L350.8,219.11L351.1,220.12L351.18,220.13L351.64,219.3L351.87,220.01L352.1,220.01L352.79,221.47L352.94,221.43L353.17,221.87L353.78,223.01L353.93,222.03L354.01,221.72L355.54,219.36L355.62,219.86L355.84,220.32L356.15,219.52L356.61,219.77L356.69,222.55L357.22,222.58L357.45,223.55L357.76,222.77L358.14,224.77L358.22,224.49L358.29,225.27L359.13,224.13L359.36,224.61L359.59,224.61L360.36,224.59L360.43,225.29L361.81,222.35L361.89,222.68L362.04,223.83L362.57,223.09L362.8,222.89L362.88,222.47L363.57,222.72L363.65,222.73L364.18,222.99L364.41,222.16L365.48,220.79L365.56,220.88L366.17,221.42L366.25,221.93L367.16,222.33L367.24,221.96L367.85,220.86L367.93,221.5L368.16,221.17L368.85,221.66L368.92,222.05L369.53,221.23L369.76,221.45L369.84,221.8L370.91,221.24L370.99,221.59L371.68,219.28L371.9,219.65L372.75,219.63L372.98,219.23L373.13,218.9L373.51,219.79L373.66,219.11L373.74,219.39L375.27,217.58L375.35,217.71L376.19,218.7L376.26,218.39L376.49,218.59L377.03,217.46L377.26,217.7L377.79,219.69L377.95,218.5L378.02,218.08L378.41,220.58L378.63,220.36L378.94,220.09L379.55,218.99L379.71,219.85L379.93,220.13L380.47,220.84L380.78,220.24L381.01,219.75L381.85,218.75L382.08,218.62L382.31,217.49L382.61,218.65L382.69,218.86L383.38,217.51L383.45,217.57L383.68,218.23L383.76,218.01L383.91,218.72L383.99,222.41L384.52,221.36L384.83,222.04L384.91,222.68L387.12,226.68L387.43,226.63L388.27,226.68L388.5,226.17L389.19,228.3L389.34,228.05L389.57,228.36L390.34,227.37L390.41,227.47L390.64,226.93L390.87,227.55L391.25,226.87L391.33,226.5L391.48,226.78L392.48,224.48L392.55,225.05L392.78,225.3L392.86,225.62L393.32,224.83L393.39,225.28L393.47,224.7L394.39,225.64L394.47,224.91L394.62,224.8L394.92,225.21L395,225.53L395.15,226.13L395.61,224.93L395.69,224.84L396.68,223.95L396.84,224.25L397.07,224.47L397.91,226.33L398.14,226.19L398.29,226.69L398.82,225.82L398.9,225.69L399.51,226.39L399.74,226.28L400.28,227.55L400.35,227.7L401.04,227.39L401.12,227.9L402.19,226.85L402.42,226.29L402.72,226.53L403.64,224.8L403.8,224.99L404.02,225.3L404.1,225.88L404.71,225.4L404.79,224.9L405.86,224.36L405.94,226.14L406.85,226.26L406.93,226.45L407.01,226.76L407.85,226.48L407.93,226.26L409,226.75L409.07,227.02L409.61,227.66L409.68,227.71L411.6,230.06L411.67,229.74L411.75,229.56L412.74,227.35L412.9,227.48L413.13,227.83L413.43,228.1L413.74,227.77L413.81,227.21L414.88,226.97L414.96,227.68L415.34,227.2L415.57,227.57L415.88,227.52L415.96,227.22L416.11,227.97L416.49,227.92L416.57,227.86L416.64,228.93L417.18,228.47L417.41,228.29L419.7,227.04L419.78,227.41L420.08,226.9L420.16,228.01L420.39,227.56L420.62,227.76L420.93,227.41L421.69,228.11L421.77,228.04L421.92,228.07L422,229.84L422.46,228.89L422.53,228.84L423.45,229.1L423.53,228.93L423.83,228.65L424.9,228.71L424.98,228.35L425.06,228.07L425.13,228.28L425.59,227.53L425.74,228.03L425.97,227.85L427.2,229.06L427.27,228.71L427.35,228.77L428.19,228.94L428.27,229.14L428.34,229.36L428.8,229.78L428.96,229.68L429.19,229.41L429.87,229.2L429.95,229.42L430.03,229.53L432.17,228.97L432.4,228.84L433.7,229.05L433.77,230.37L434.77,230.46L434.84,230.29L436.22,229.45L436.3,229.34L438.06,229.74L438.29,229.66L439.97,231.96L440.05,232.07L442.03,230.13L442.11,230.1L442.87,230.57L443.18,230.45L443.79,230.63L443.95,230.35L444.18,230.03L444.4,229.61L444.48,230.88L444.79,231.22L445.02,230.67L445.55,231.28L445.78,231.23L446.93,232.13L447,231.76L447.08,231.65L448.08,232.07L448.23,231.71L448.46,231.64L449.76,232.94L449.83,233.14L450.22,232.75L450.29,233.65L450.6,233.54L451.75,232.88L451.82,233.04L451.98,233.5L452.51,232.92L452.74,233.05L453.58,233.6L453.81,233.28L453.89,233.13L454.12,233.75L456.03,232.59L456.11,233.03L456.18,233.32L456.56,231.56L457.02,231.95L457.1,232.03L457.63,232.59L457.79,232.24L457.86,231.93L458.63,231.88L458.71,232.27L459.47,232.12L459.7,232.2L459.78,232.37L460.31,231.94L460.39,231.87L461.38,231.12L461.46,230.82L462.15,233.06L462.45,232.59L462.53,231.25L463.22,230.93L463.45,230.81L464.21,231.47L464.29,231.64L466.35,232.15L466.43,232.6L466.97,231.43L467.5,232.03L467.73,232.5L468.34,233.49L468.42,232.6L468.57,232.73L468.95,231.8L469.34,232.51L469.41,232.73L470.64,233.18L470.71,233.47L470.94,233.66L471.25,233.27L471.48,233.05L472.85,230.95L473.16,231.37L473.39,230.97L473.62,231.22L473.69,233.91L475.38,233.96L475.45,234.07L476.37,233.7L476.45,233.73L476.6,234.1L477.14,233.81L477.37,233.8L478.21,234.4L478.44,234.26L479.51,235.2L479.58,235.11L480.73,235.48L480.81,235.31L482.26,235.73L482.34,235.89L483.33,235.94L483.41,237.77L486.62,238.2L486.7,238.32L489.83,238.53L489.91,238.3L490.29,238.57L490.52,238.25L490.75,237.95L490.83,237.73L491.06,238.18L491.44,238.06L491.51,238.16L492.66,237.43L492.89,237.47L493.04,237.8L493.58,237.21L493.66,237.12L496.64,237.12L496.71,237.07L497.48,236.69L497.71,236.92L498.24,237.46L498.55,237.14L498.78,237.39L499.39,237.08L499.54,236.93L500.61,238.04L500.69,237.96L504.29,238.6L504.36,238.48L505.74,238.57L505.82,238.34L505.97,238.18L506.35,238.78L506.43,238.94L506.58,239.24L507.04,238.52L507.34,237.96L507.42,237.17L508.03,237.86L508.11,237.99L508.72,237.1L509.03,237.54L509.1,237.84L510.79,238.23L510.86,238.41L513.23,238.2L513.31,238.23L515.99,238.17L516.06,238.04L516.52,238.22L516.75,237.96L516.98,238.04L517.82,237.54L518.05,236.69L518.28,235.94L518.74,236.25L518.82,236.98L519.43,234.85L519.66,235.33L519.73,234.14L519.89,235.07L520.5,234.91L520.73,234.86L520.8,235.08L520.88,234.93L520.96,232.21L521.26,233.32L521.49,231.99L521.57,232.33L521.8,231.93L522.1,231.22L522.33,232.24L522.64,234.2L523.18,233.28L523.4,233.53L523.71,233.84L523.94,233.15L524.09,233.47L524.17,232.89L525.62,229.94L525.7,232.1L526.08,232.72L527.15,227.28L527.3,228.42L527.38,228.69L527.69,229.74L527.99,229.45L528.22,227.97L529.29,190.59L529.37,143.79L529.45,12.6L530.06,205.9L530.13,199.15L531.21,214.39L531.51,211.51L531.59,180.78L532.66,66.85L532.81,67.18L533.04,96.34L533.73,161.96L533.88,122.08L534.11,121.88L534.19,113.23L534.8,124.07L534.88,129.14L535.26,148.38L535.49,139.37L535.72,133.01L535.95,141.69L536.25,130.01L536.33,124.2L536.41,123.67L536.56,126.95L536.79,134.44L537.32,146.92L537.48,145.88L537.55,132.92L537.63,135.94L537.94,122.29L538.09,128.99L538.16,124.84L538.39,122.73L538.47,103.38L539.08,55.51L539.24,77.79L539.46,56.98L539.62,42.15L539.69,96.18L540,90.23\" style=\"vector-effect: none; fill: none; stroke: rgb(99, 110, 250); stroke-opacity: 1; stroke-width: 2px; opacity: 1;\"/></g><g class=\"points\"/><g class=\"text\"/></g></g></g><g class=\"overplot\"/><path class=\"xlines-above crisp\" d=\"M0,0\" style=\"fill: none;\"/><path class=\"ylines-above crisp\" d=\"M0,0\" style=\"fill: none;\"/><g class=\"overlines-above\"/><g class=\"xaxislayer-above\"/><g class=\"yaxislayer-above\"><g class=\"ytick\"><text text-anchor=\"end\" x=\"79\" y=\"4.199999999999999\" transform=\"translate(0,341.0800000000001)\" style=\"font-family: 'Open Sans', verdana, arial, sans-serif; font-size: 12px; fill: rgb(42, 63, 95); fill-opacity: 1; white-space: pre; opacity: 1;\">0</text></g><g class=\"ytick\"><text text-anchor=\"end\" x=\"79\" y=\"4.199999999999999\" style=\"font-family: 'Open Sans', verdana, arial, sans-serif; font-size: 12px; fill: rgb(42, 63, 95); fill-opacity: 1; white-space: pre; opacity: 1;\" transform=\"translate(0,288.4800000000001)\">20</text></g><g class=\"ytick\"><text text-anchor=\"end\" x=\"79\" y=\"4.199999999999999\" style=\"font-family: 'Open Sans', verdana, arial, sans-serif; font-size: 12px; fill: rgb(42, 63, 95); fill-opacity: 1; white-space: pre; opacity: 1;\" transform=\"translate(0,235.88000000000008)\">40</text></g><g class=\"ytick\"><text text-anchor=\"end\" x=\"79\" y=\"4.199999999999999\" style=\"font-family: 'Open Sans', verdana, arial, sans-serif; font-size: 12px; fill: rgb(42, 63, 95); fill-opacity: 1; white-space: pre; opacity: 1;\" transform=\"translate(0,183.29000000000008)\">60</text></g><g class=\"ytick\"><text text-anchor=\"end\" x=\"79\" y=\"4.199999999999999\" style=\"font-family: 'Open Sans', verdana, arial, sans-serif; font-size: 12px; fill: rgb(42, 63, 95); fill-opacity: 1; white-space: pre; opacity: 1;\" transform=\"translate(0,130.69000000000008)\">80</text></g></g><g class=\"overaxes-above\"/></g><g class=\"subplot x2y2\"><g class=\"layer-subplot\"><g class=\"shapelayer\"/><g class=\"imagelayer\"/></g><g class=\"minor-gridlayer\"><g class=\"x2\"/><g class=\"y2\"/></g><g class=\"gridlayer\"><g class=\"x2\"><path class=\"x2grid crisp\" transform=\"translate(160.53,0)\" d=\"M0,568v251.99999999999997\" style=\"stroke: rgb(255, 255, 255); stroke-opacity: 1; stroke-width: 1px;\"/><path class=\"x2grid crisp\" transform=\"translate(300.18,0)\" d=\"M0,568v251.99999999999997\" style=\"stroke: rgb(255, 255, 255); stroke-opacity: 1; stroke-width: 1px;\"/><path class=\"x2grid crisp\" transform=\"translate(439.82,0)\" d=\"M0,568v251.99999999999997\" style=\"stroke: rgb(255, 255, 255); stroke-opacity: 1; stroke-width: 1px;\"/><path class=\"x2grid crisp\" transform=\"translate(579.47,0)\" d=\"M0,568v251.99999999999997\" style=\"stroke: rgb(255, 255, 255); stroke-opacity: 1; stroke-width: 1px;\"/></g><g class=\"y2\"><path class=\"y2grid crisp\" transform=\"translate(0,801.59)\" d=\"M80,0h540\" style=\"stroke: rgb(255, 255, 255); stroke-opacity: 1; stroke-width: 1px;\"/><path class=\"y2grid crisp\" transform=\"translate(0,766.98)\" d=\"M80,0h540\" style=\"stroke: rgb(255, 255, 255); stroke-opacity: 1; stroke-width: 1px;\"/><path class=\"y2grid crisp\" transform=\"translate(0,732.38)\" d=\"M80,0h540\" style=\"stroke: rgb(255, 255, 255); stroke-opacity: 1; stroke-width: 1px;\"/><path class=\"y2grid crisp\" transform=\"translate(0,697.77)\" d=\"M80,0h540\" style=\"stroke: rgb(255, 255, 255); stroke-opacity: 1; stroke-width: 1px;\"/><path class=\"y2grid crisp\" transform=\"translate(0,663.17)\" d=\"M80,0h540\" style=\"stroke: rgb(255, 255, 255); stroke-opacity: 1; stroke-width: 1px;\"/><path class=\"y2grid crisp\" transform=\"translate(0,628.56)\" d=\"M80,0h540\" style=\"stroke: rgb(255, 255, 255); stroke-opacity: 1; stroke-width: 1px;\"/><path class=\"y2grid crisp\" transform=\"translate(0,593.96)\" d=\"M80,0h540\" style=\"stroke: rgb(255, 255, 255); stroke-opacity: 1; stroke-width: 1px;\"/></g></g><g class=\"zerolinelayer\"/><g class=\"layer-between\"><g class=\"shapelayer\"/><g class=\"imagelayer\"/></g><path class=\"xlines-below\"/><path class=\"ylines-below\"/><g class=\"overlines-below\"/><g class=\"xaxislayer-below\"/><g class=\"yaxislayer-below\"/><g class=\"overaxes-below\"/><g class=\"plot\" transform=\"translate(80,568)\" clip-path=\"url(#clipa7e947x2y2plot)\"><g class=\"scatterlayer mlayer\"><g class=\"trace scatter tracebb614c\" style=\"stroke-miterlimit: 2; opacity: 1;\"><g class=\"fills\"/><g class=\"errorbars\"/><g class=\"lines\"><path class=\"js-line\" d=\"M508.64,197.53L501.76,116.35L494.73,168.6L487.69,179.19L480.65,161.05L473.85,56.2L466.81,134.27L459.78,164.31L452.74,144.58L445.93,72.67L438.9,130.53L431.86,151.37L424.83,126.59L418.02,101.88L410.98,132.61L403.95,155.24L396.91,131.71L390.03,24.23L382.99,128.66L375.96,146.24L368.92,125.55L362.12,27.62L355.08,123.4L348.04,148.39L341.01,130.05L334.2,13.22L327.17,122.37L320.13,172.41L313.09,139.12L306.29,21.67L299.25,145.48L292.22,160.92L285.18,129.63L278.3,20.49L271.26,133.44L264.23,147.49L257.19,110.32L250.38,12.6L243.35,136.76L236.31,143.68L229.28,124.03L222.47,24.3L215.43,141.19L208.4,147.84L201.36,131.09L194.56,26.51L187.52,150.81L180.48,143.34L173.45,142.64L166.57,69.84L159.53,156.69L152.49,175.59L145.46,179.67L138.65,108.73L131.62,198.15L124.58,201.54L117.54,196.21L110.74,152.82L103.7,231.23L96.67,239.4L89.63,235.32L82.82,219.12\" style=\"vector-effect: none; fill: none; stroke: rgb(239, 85, 59); stroke-opacity: 1; stroke-width: 2px; opacity: 1;\"/></g><g class=\"points\"/><g class=\"text\"/></g></g></g><g class=\"overplot\"/><path class=\"xlines-above crisp\" d=\"M0,0\" style=\"fill: none;\"/><path class=\"ylines-above crisp\" d=\"M0,0\" style=\"fill: none;\"/><g class=\"overlines-above\"/><g class=\"xaxislayer-above\"><g class=\"x2tick\"><text text-anchor=\"middle\" x=\"0\" y=\"833\" transform=\"translate(160.53,0)\" style=\"font-family: 'Open Sans', verdana, arial, sans-serif; font-size: 12px; fill: rgb(42, 63, 95); fill-opacity: 1; white-space: pre; opacity: 1;\">2005</text></g><g class=\"x2tick\"><text text-anchor=\"middle\" x=\"0\" y=\"833\" style=\"font-family: 'Open Sans', verdana, arial, sans-serif; font-size: 12px; fill: rgb(42, 63, 95); fill-opacity: 1; white-space: pre; opacity: 1;\" transform=\"translate(300.18,0)\">2010</text></g><g class=\"x2tick\"><text text-anchor=\"middle\" x=\"0\" y=\"833\" style=\"font-family: 'Open Sans', verdana, arial, sans-serif; font-size: 12px; fill: rgb(42, 63, 95); fill-opacity: 1; white-space: pre; opacity: 1;\" transform=\"translate(439.82,0)\">2015</text></g><g class=\"x2tick\"><text text-anchor=\"middle\" x=\"0\" y=\"833\" style=\"font-family: 'Open Sans', verdana, arial, sans-serif; font-size: 12px; fill: rgb(42, 63, 95); fill-opacity: 1; white-space: pre; opacity: 1;\" transform=\"translate(579.47,0)\">2020</text></g></g><g class=\"yaxislayer-above\"><g class=\"y2tick\"><text text-anchor=\"end\" x=\"79\" y=\"4.199999999999999\" transform=\"translate(0,801.59)\" style=\"font-family: 'Open Sans', verdana, arial, sans-serif; font-size: 12px; fill: rgb(42, 63, 95); fill-opacity: 1; white-space: pre; opacity: 1;\">500</text></g><g class=\"y2tick\"><text text-anchor=\"end\" x=\"79\" y=\"4.199999999999999\" style=\"font-family: 'Open Sans', verdana, arial, sans-serif; font-size: 12px; fill: rgb(42, 63, 95); fill-opacity: 1; white-space: pre; opacity: 1;\" transform=\"translate(0,766.98)\">1000</text></g><g class=\"y2tick\"><text text-anchor=\"end\" x=\"79\" y=\"4.199999999999999\" style=\"font-family: 'Open Sans', verdana, arial, sans-serif; font-size: 12px; fill: rgb(42, 63, 95); fill-opacity: 1; white-space: pre; opacity: 1;\" transform=\"translate(0,732.38)\">1500</text></g><g class=\"y2tick\"><text text-anchor=\"end\" x=\"79\" y=\"4.199999999999999\" style=\"font-family: 'Open Sans', verdana, arial, sans-serif; font-size: 12px; fill: rgb(42, 63, 95); fill-opacity: 1; white-space: pre; opacity: 1;\" transform=\"translate(0,697.77)\">2000</text></g><g class=\"y2tick\"><text text-anchor=\"end\" x=\"79\" y=\"4.199999999999999\" style=\"font-family: 'Open Sans', verdana, arial, sans-serif; font-size: 12px; fill: rgb(42, 63, 95); fill-opacity: 1; white-space: pre; opacity: 1;\" transform=\"translate(0,663.17)\">2500</text></g><g class=\"y2tick\"><text text-anchor=\"end\" x=\"79\" y=\"4.199999999999999\" style=\"font-family: 'Open Sans', verdana, arial, sans-serif; font-size: 12px; fill: rgb(42, 63, 95); fill-opacity: 1; white-space: pre; opacity: 1;\" transform=\"translate(0,628.56)\">3000</text></g><g class=\"y2tick\"><text text-anchor=\"end\" x=\"79\" y=\"4.199999999999999\" style=\"font-family: 'Open Sans', verdana, arial, sans-serif; font-size: 12px; fill: rgb(42, 63, 95); fill-opacity: 1; white-space: pre; opacity: 1;\" transform=\"translate(0,593.96)\">3500</text></g></g><g class=\"overaxes-above\"/></g></g><g class=\"polarlayer\"/><g class=\"smithlayer\"/><g class=\"ternarylayer\"/><g class=\"geolayer\"/><g class=\"funnelarealayer\"/><g class=\"pielayer\"/><g class=\"iciclelayer\"/><g class=\"treemaplayer\"/><g class=\"sunburstlayer\"/><g class=\"glimages\"/><defs id=\"topdefs-a7e947\"><g class=\"clips\"/><clipPath id=\"rangesliderx-a7e947\"><rect x=\"0\" y=\"0\" width=\"540\" height=\"108\"/></clipPath></defs><g class=\"layer-above\"><g class=\"imagelayer\"/><g class=\"shapelayer\"/></g><g class=\"infolayer\"><g class=\"g-gtitle\"><text class=\"gtitle\" x=\"35\" y=\"50\" text-anchor=\"start\" dy=\"0em\" style=\"font-family: 'Open Sans', verdana, arial, sans-serif; font-size: 17px; fill: rgb(42, 63, 95); opacity: 1; white-space: pre;\">GameStop</text></g><g class=\"g-x2title\"><text class=\"x2title\" x=\"350\" y=\"860.3\" text-anchor=\"middle\" style=\"font-family: 'Open Sans', verdana, arial, sans-serif; font-size: 14px; fill: rgb(42, 63, 95); opacity: 1; white-space: pre;\">Date</text></g><g class=\"g-ytitle\"><text class=\"ytitle\" transform=\"rotate(-90,44.334375,226.00000000000006)\" x=\"44.334375\" y=\"226.00000000000006\" text-anchor=\"middle\" style=\"font-family: 'Open Sans', verdana, arial, sans-serif; font-size: 14px; fill: rgb(42, 63, 95); opacity: 1; white-space: pre;\">Price ($US)</text></g><g class=\"g-y2title\"><text class=\"y2title\" transform=\"rotate(-90,29.084375,694)\" x=\"29.084375\" y=\"694\" text-anchor=\"middle\" style=\"font-family: 'Open Sans', verdana, arial, sans-serif; font-size: 14px; fill: rgb(42, 63, 95); opacity: 1; white-space: pre;\">Revenue ($US Millions)</text></g><g class=\"annotation\" data-index=\"0\" style=\"opacity: 1;\"><g class=\"annotation-text-g\" transform=\"rotate(0,350,88.50000000000009)\"><g class=\"cursor-pointer\" transform=\"translate(262,77)\"><rect class=\"bg\" x=\"0.5\" y=\"0.5\" width=\"175\" height=\"22\" style=\"stroke-width: 1px; stroke: rgb(0, 0, 0); stroke-opacity: 0; fill: rgb(0, 0, 0); fill-opacity: 0;\"/><text class=\"annotation-text\" text-anchor=\"middle\" x=\"87.671875\" y=\"18\" style=\"font-family: 'Open Sans', verdana, arial, sans-serif; font-size: 16px; fill: rgb(42, 63, 95); fill-opacity: 1; white-space: pre;\">Historical Share Price</text></g></g></g><g class=\"annotation\" data-index=\"1\" style=\"opacity: 1;\"><g class=\"annotation-text-g\" transform=\"rotate(0,350,556.5)\"><g class=\"cursor-pointer\" transform=\"translate(274,545)\"><rect class=\"bg\" x=\"0.5\" y=\"0.5\" width=\"152\" height=\"22\" style=\"stroke-width: 1px; stroke: rgb(0, 0, 0); stroke-opacity: 0; fill: rgb(0, 0, 0); fill-opacity: 0;\"/><text class=\"annotation-text\" text-anchor=\"middle\" x=\"76.4375\" y=\"18\" style=\"font-family: 'Open Sans', verdana, arial, sans-serif; font-size: 16px; fill: rgb(42, 63, 95); fill-opacity: 1; white-space: pre;\">Historical Revenue</text></g></g></g><g class=\"rangeslider-container\" pointer-events=\"all\" transform=\"translate(80,367)\"><rect class=\"rangeslider-bg\" x=\"0\" y=\"0\" shape-rendering=\"crispEdges\" width=\"540\" height=\"108\" transform=\"\" stroke-width=\"0\" style=\"stroke: rgb(68, 68, 68); stroke-opacity: 1; fill: rgb(229, 236, 246); fill-opacity: 1;\"/><g class=\"rangeslider-rangeplot xy\" clip-path=\"url(#rangesliderx-a7e947)\"><g class=\"layer-subplot\"><g class=\"shapelayer\"/><g class=\"imagelayer\"/></g><g class=\"minor-gridlayer\"><g class=\"x\"/><g class=\"y\"/></g><g class=\"gridlayer\"><g class=\"x\"/><g class=\"y\"/></g><g class=\"zerolinelayer\"/><g class=\"layer-between\"><g class=\"shapelayer\"/><g class=\"imagelayer\"/></g><path class=\"xlines-below\"/><path class=\"ylines-below\"/><g class=\"overlines-below\"/><g class=\"xaxislayer-below\"/><g class=\"yaxislayer-below\"/><g class=\"overaxes-below\"/><g class=\"plot\"><g class=\"scatterlayer mlayer rangeplot\"><g class=\"trace scatter trace1127be\" style=\"stroke-miterlimit: 2; opacity: 1;\"><g class=\"fills\"/><g class=\"errorbars\"/><g class=\"lines\"><path class=\"js-line\" d=\"M0,101.41L5.81,101.51L5.89,101.38L9.71,101.24L9.79,101.33L14.07,101.52L14.3,101.43L15.14,101.35L15.45,101.42L16.21,101.46L16.44,101.4L23.55,102.06L23.63,102.44L62.79,101.7L63.02,101.75L64.39,101.84L64.62,101.81L81.37,101.51L81.45,101.52L92.23,100.37L92.46,100.23L93.61,100.28L93.68,100.24L96.36,100L96.44,99.97L98.65,100.09L98.88,100.12L108.75,99.78L108.83,99.67L114.41,99.39L114.49,99.05L118.39,99.06L118.46,99.15L123.59,99.58L123.66,99.44L123.82,99.73L124.35,99.32L124.58,99.37L125.8,98.86L125.96,99.11L126.19,99.23L129.93,98.76L130.01,98.77L131,98.38L131.08,98.49L131.16,98.61L132.07,98.27L132.15,98.29L133.15,98.47L133.22,98.29L133.3,98.07L134.52,97.84L134.75,97.89L136.51,98.11L136.59,98.06L139.65,98.23L139.72,98.21L142.78,98.01L142.86,97.41L143.55,97L143.85,97.04L144.69,96.86L144.92,96.69L145.76,97.01L145.99,97L150.58,95.44L150.81,95.11L151.58,95.41L151.65,95.37L151.88,95.52L152.65,95.44L152.72,95.82L153.11,94.96L153.49,95.6L153.56,95.72L153.72,95.92L154.02,95.41L154.1,95.17L154.86,93.81L155.17,93.62L155.4,94.17L155.86,93.87L155.94,93.48L156.24,93.41L156.39,92.98L156.47,92.83L157.31,92.39L157.39,92.58L157.46,92.96L157.92,92.13L158.31,92.31L158.38,92.29L159.53,92.08L159.61,92.34L159.68,92.6L159.99,92.19L160.14,92.73L160.22,93.31L160.45,93.45L160.6,93.1L160.68,92.71L161.14,93.96L161.59,93.24L161.67,92.74L162.36,91.79L162.74,92.2L162.82,92.4L164.19,91.54L164.35,91.88L165.57,93.96L165.88,93.74L166.49,94.01L166.64,93.36L166.87,93.45L167.64,94.64L167.71,94.28L168.02,94.43L169.01,95.21L169.09,95.05L169.32,95.22L169.85,94.01L170.08,94.4L170.85,93.08L170.92,93.48L171.15,93.51L171.46,92.62L171.92,92.85L172,92.97L173.52,92.62L173.6,93.08L174.14,93.6L174.44,92.96L174.52,92.89L176.28,94.78L176.51,94.63L176.66,95.25L177.04,94.22L177.12,94.43L177.2,94.47L177.27,94.22L177.81,95.06L177.88,95.19L178.88,95.94L178.95,95.87L179.18,95.68L179.49,94.74L179.95,95.25L180.03,95.44L180.79,95.84L180.87,95.18L180.94,95.2L181.02,95.46L181.33,94.64L181.63,95.12L181.86,94.94L182.7,95L183.01,94.71L184,95.94L184.08,95.72L184.69,96.76L184.84,96.46L185.07,96.83L185.23,96.48L185.61,96.85L185.68,97.49L186.14,96.96L186.3,98.06L186.37,97.47L186.45,97.28L186.68,97.02L186.83,97.96L186.91,98.18L187.21,98.54L187.37,97.74L187.52,98.12L187.75,98.2L187.83,98.06L187.98,98.8L188.28,98.68L188.36,98.88L188.51,98.61L189.05,100L189.13,99.91L189.36,99.49L190.43,98.58L190.5,98.91L191.11,98.45L191.27,98.65L191.5,98.93L192.19,99.21L192.34,98.92L193.41,98.64L193.71,98.95L194.33,97.98L194.48,98.62L194.71,98.49L195.47,98.2L195.55,98.34L195.86,98.57L196.47,97.95L196.62,98.21L196.85,98.37L197,98.14L197.16,99.07L197.39,98.98L198.15,98.5L198.23,98.61L200.06,97.19L200.14,97.35L200.6,97.93L200.9,97.38L201.13,97.54L202.36,98.45L202.43,98.39L202.51,98.3L202.89,98.3L202.97,99.07L204.65,98.74L204.88,98.83L205.72,99.11L205.95,99.11L208.17,98.99L208.25,99.17L209.32,98.46L209.39,98.32L211,98.78L211.07,98.76L213.14,98.38L213.22,98.45L214.75,98.53L214.82,98.62L215.89,98.65L216.12,98.48L216.81,98.75L216.96,98.48L217.19,98.45L217.88,99.17L217.96,99.27L220.56,98.76L220.63,99.44L225.91,99.55L225.99,99.31L229.66,98.67L229.74,98.92L232.79,99.39L232.87,99.59L234.55,99.74L234.63,99.71L237.69,99.38L237.77,99.7L239.83,99.79L239.91,99.64L248.78,99.39L248.85,99.49L250.46,99.42L250.54,99.56L253.21,99.57L253.29,99.61L255.97,98.5L256.04,98.31L258.64,98.14L258.72,98.03L264.61,99.12L264.84,99.42L265.68,99.23L265.91,99.22L266.6,98.78L266.75,99.12L267.06,98.99L272.33,98.65L272.41,98.85L273.17,99.24L273.4,99.08L274.7,98.82L274.78,98.89L276.16,98.81L276.23,98.74L276.77,98.69L276.92,98.86L277.23,98.91L277.84,98.58L277.99,98.71L278.22,98.82L279.98,98.93L280.06,98.87L284.72,99.07L284.8,99.01L286.4,99.34L286.48,99.78L289,99.78L289.08,99.83L291.15,100.1L291.22,100.07L292.68,100.24L292.75,100.08L295.12,99.09L295.35,99.11L296.42,99L296.5,99.25L300.71,98.26L300.78,98.16L302.92,97.86L303,97.9L303.69,98.49L303.92,98.38L304.45,98.45L304.53,98.75L304.61,98.87L305.83,98.65L306.06,98.64L306.59,98.35L306.67,98.04L307.44,98.32L307.74,98.3L308.74,98.63L308.89,98.46L308.96,98.43L313.17,96.4L313.25,96.09L314.24,95.56L314.32,95.75L314.39,95.4L314.85,96.15L314.93,96.93L315.69,96.42L315.77,96.2L316,95.94L316.23,96.3L316.38,95.98L316.46,95.79L316.99,95.1L317.3,95.31L317.38,95.28L318.68,94.65L318.91,94.59L319.98,94.21L320.05,93.9L320.51,93.23L320.82,93.49L321.05,93.39L321.74,93.76L321.81,92.9L323.27,93.16L323.34,93.32L323.8,92.7L324.03,93.34L324.26,93.27L324.87,92.98L325.1,93.09L325.33,93.31L327.62,92.01L327.7,92.46L328.16,91.7L328.31,91.91L328.54,92.21L329.23,93.68L329.38,93.58L329.61,93.79L330.3,94.14L330.38,94.06L330.45,93.72L331.98,93.24L332.06,93.32L332.83,94.12L332.9,95.95L333.51,95.35L333.67,95.91L333.9,95.74L334.51,96.43L334.74,96.11L334.97,95.93L338.48,95L338.71,94.91L338.94,94.23L339.48,94.88L339.56,95.02L340.4,94.67L340.55,95.09L340.63,95.26L341.16,95.15L341.39,95.51L341.47,95.61L342.16,95.98L342.23,95.9L342.46,95.75L344.6,95.53L344.68,95L345.83,94.88L345.9,94.69L347.36,94.21L347.43,94.08L347.81,93.8L348.04,94.65L348.12,94.81L351.03,94.1L351.1,94.34L352.1,94.29L352.17,94.5L352.25,94.33L352.79,94.92L352.86,94.81L353.78,95.58L354.01,95.02L354.24,94.86L355.46,94.36L355.54,94.01L355.92,94.47L356.38,94.14L356.46,94.16L356.61,94.19L356.69,95.38L358.06,95.86L358.14,96.33L358.6,96.63L358.83,96.08L359.06,96.16L359.9,96.23L360.13,96.04L360.74,96.45L360.82,95.73L360.89,96.09L361.5,95.48L361.73,95.32L362.57,95.61L362.8,95.52L363.57,95.45L363.65,95.46L364.72,94.9L364.95,94.76L365.1,95.04L365.71,94.69L365.79,94.66L366.32,95.2L366.55,95.34L371.06,94.66L371.14,94.13L374.2,93.56L374.28,93.31L375.65,93.65L375.73,93.66L376.34,93.42L376.49,93.68L376.72,93.55L378.02,93.46L378.1,94.25L380.24,94.5L380.47,94.65L382.31,93.21L382.38,93.56L383.15,93.38L383.22,93.26L383.3,93.24L383.91,93.74L383.99,95.32L384.83,95.16L384.91,95.43L385.06,95.57L387.66,97.22L387.96,97.16L388.65,97.46L388.73,97.76L391.25,97.23L391.33,97.07L391.94,96.8L392.02,96.68L392.25,96.62L393.32,96.36L393.39,96.55L393.47,96.3L394.08,96.66L394.39,96.7L394.62,96.34L395.08,96.7L395.15,96.91L397.07,96.2L397.14,96.44L398.29,97.15L398.37,97.04L398.44,97.06L400.05,97.41L400.28,97.52L402.72,97.08L402.95,96.59L403.8,96.42L404.02,96.56L404.64,96.72L404.71,96.6L404.79,96.39L405.86,96.15L405.94,96.92L408.08,96.96L408.31,97.08L411.06,98L411.14,98.59L412.13,98.21L412.21,98.11L414.27,97.27L414.35,97.53L416.11,97.7L416.34,97.71L420.08,97.24L420.16,97.72L421.46,97.59L421.69,97.76L421.92,97.74L422,98.5L426.74,97.82L426.81,98.15L428.65,98.4L428.73,98.44L432.09,98.19L432.17,98.13L433.7,98.17L433.77,98.73L435.3,98.47L435.38,98.42L439.66,99.35L439.89,99.41L440.73,99.11L440.96,98.93L441.8,98.59L442.03,98.63L443.79,98.84L443.87,98.81L444.4,98.41L444.48,98.95L444.79,99.1L445.55,99.12L445.78,99.1L447.69,99.39L447.92,99.36L448.69,99.38L448.76,99.32L448.99,99.4L454.96,100.03L455.03,99.94L457.33,99.55L457.56,99.65L459.24,99.49L459.32,99.56L461.61,99.03L461.84,99.51L462.15,99.88L462.45,99.68L462.53,99.11L466.89,99.25L466.97,99.18L468.34,100.07L468.57,99.74L468.8,99.46L469.64,99.7L469.87,99.71L471.48,99.88L471.63,99.76L472.24,98.97L472.55,99.06L472.62,99.09L473.62,99.1L473.69,100.25L477.67,100.38L477.9,100.46L479.58,100.76L479.66,100.8L489.22,102.36L489.3,102.32L495.8,101.63L495.87,101.66L497.71,101.54L497.79,101.49L498.24,101.77L498.55,101.63L498.78,101.74L503.9,102.31L504.13,102.24L507.34,101.98L507.42,101.64L508.19,101.98L508.42,101.68L509.49,101.98L509.56,102.04L510.86,102.18L511.09,102.16L512.77,101.96L512.85,102.08L517.82,101.8L518.05,101.44L518.66,101.15L518.74,101.25L518.82,101.56L520.5,100.67L520.73,100.65L520.88,100.68L520.96,99.52L521.26,100L521.49,99.42L521.57,99.57L521.8,99.4L522.41,99.74L522.49,99.99L523.02,100.25L523.18,99.98L523.4,100.08L524.63,99.16L524.78,98.79L525.62,98.55L525.7,99.47L526.08,99.74L527.15,97.41L527.3,97.89L527.38,98.01L527.99,98.34L528.22,97.7L529.29,81.68L529.37,61.62L529.45,5.4L530.06,88.24L530.13,85.35L531.21,91.88L531.51,90.65L531.59,77.48L532.66,28.65L532.81,28.79L533.04,41.29L533.73,69.41L533.88,52.32L534.11,52.23L534.19,48.53L534.8,53.17L534.88,55.34L535.26,63.59L535.49,59.73L535.72,57L536.02,60.72L536.25,55.72L536.33,53.23L536.41,53L536.56,54.41L536.79,57.62L537.32,62.96L537.48,62.52L537.55,56.97L537.63,58.26L537.94,52.41L538.09,55.28L538.16,53.5L538.39,52.6L538.47,44.31L539.08,23.79L539.24,33.34L539.46,24.42L539.62,18.07L539.69,41.22L540,38.67\" style=\"vector-effect: none; fill: none; stroke: rgb(99, 110, 250); stroke-opacity: 1; stroke-width: 2px; opacity: 1;\"/></g><g class=\"points\"/><g class=\"text\"/></g></g></g><g class=\"overplot\"/><path class=\"xlines-above crisp\" style=\"fill: none;\"/><path class=\"ylines-above crisp\" style=\"fill: none;\"/><g class=\"overlines-above\"/><g class=\"xaxislayer-above\"/><g class=\"yaxislayer-above\"/><g class=\"overaxes-above\"/></g><rect class=\"rangeslider-mask-min\" x=\"0\" y=\"0\" shape-rendering=\"crispEdges\" height=\"108\" width=\"0\" style=\"fill: rgb(0, 0, 0); fill-opacity: 0.4;\"/><rect class=\"rangeslider-mask-max\" y=\"0\" shape-rendering=\"crispEdges\" height=\"108\" x=\"540\" width=\"0\" style=\"fill: rgb(0, 0, 0); fill-opacity: 0.4;\"/><g class=\"rangeslider-grabber-min\" transform=\"translate(-2.5,0.5)\"><rect class=\"rangeslider-handle-min\" x=\"0\" width=\"4\" rx=\"1\" fill=\"#fff\" stroke=\"#444\" stroke-width=\"1\" shape-rendering=\"crispEdges\" y=\"27\" height=\"54\"/><rect class=\"rangeslider-grabarea-min\" width=\"10\" x=\"0\" y=\"0\" fill=\"transparent\" height=\"108\"/></g><g class=\"rangeslider-grabber-max\" transform=\"translate(538.5,0.5)\"><rect class=\"rangeslider-handle-max\" x=\"0\" width=\"4\" rx=\"1\" fill=\"#fff\" stroke=\"#444\" stroke-width=\"1\" shape-rendering=\"crispEdges\" y=\"27\" height=\"54\"/><rect class=\"rangeslider-grabarea-max\" width=\"10\" x=\"0\" y=\"0\" fill=\"transparent\" height=\"108\"/></g></g><g class=\"g-xtitle\"><text class=\"xtitle\" x=\"350\" y=\"506\" text-anchor=\"middle\" style=\"font-family: 'Open Sans', verdana, arial, sans-serif; font-size: 14px; fill: rgb(42, 63, 95); opacity: 1; white-space: pre;\">Date</text></g></g></svg>"
      ]
     },
     "metadata": {},
     "output_type": "display_data"
    }
   ],
   "source": [
    "# Call the function to plot GameStop data\n",
    "make_graph(gme_data, gme_revenue, 'GameStop')"
   ]
  },
  {
   "cell_type": "markdown",
   "id": "260a32ed-86a1-46e0-b82d-3b4868b707df",
   "metadata": {},
   "source": [
    "# Conclusion\n",
    "In this analysis, we visualized the historical stock prices and revenue data for Tesla and GameStop. Observations from the visualizations can provide insights into how external factors and market trends may have affected these companies' financial performance over time."
   ]
  }
 ],
 "metadata": {
  "kernelspec": {
   "display_name": "Python 3 (ipykernel)",
   "language": "python",
   "name": "python3"
  },
  "language_info": {
   "codemirror_mode": {
    "name": "ipython",
    "version": 3
   },
   "file_extension": ".py",
   "mimetype": "text/x-python",
   "name": "python",
   "nbconvert_exporter": "python",
   "pygments_lexer": "ipython3",
   "version": "3.12.4"
  }
 },
 "nbformat": 4,
 "nbformat_minor": 5
}
